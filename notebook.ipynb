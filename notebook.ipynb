{
 "cells": [
  {
   "cell_type": "markdown",
   "id": "9d2683fe-d99e-4f2e-8574-33e70a1b99b8",
   "metadata": {},
   "source": [
    "# Proyek Analisis Data: Bike Sharing Dataset\n",
    "\n",
    "- Nama: Ilham Rizkia N\n",
    "- Email: ilhamrizkia@student.uns.ac.id\n",
    "- ID Dicoding: ilhamrizkiagn"
   ]
  },
  {
   "cell_type": "markdown",
   "id": "2b134b41-3324-454d-8b12-9897e7d4b4b0",
   "metadata": {},
   "source": [
    "# Latar Belakang\n",
    "\n",
    "Bike sharing system adalah versi terbaru dari rental sepeda konvensional yang mana proses dari pendaftaran member, rental hingga pengembalian semuanya\n",
    "dilakukan secara otomatis. Melalui sistem ini, pengguna dapat merental dan mengembalikan sepeda dimana saja dengan mudah. Sistem ini sangat bagus\n",
    "dan memiliki berbagai manfaat baik dari segi kemacetan lalu lintas, berkurangnya polusi serta menjaga kesehatan tubuh."
   ]
  },
  {
   "cell_type": "markdown",
   "id": "8788b9de-617b-4d86-9c5d-c4badcc3f998",
   "metadata": {},
   "source": [
    "Proyek ini memiliki 2 dataset yang merepresentasikan jumlah rental sepeda dalam perjam dan perhari disertai beberapa kondisi seperti cuaca, waktu libur\n",
    "dan lain sebagainya"
   ]
  },
  {
   "cell_type": "markdown",
   "id": "36cbbd20-a2b4-4298-8174-ab23de84dbaa",
   "metadata": {},
   "source": [
    "# Pertanyaan Bisnis\n",
    "\n",
    "- Pada bulan apa rental sepeda terbanyak terjadi?\n",
    "- Bagaimana pengaruh rental sepeda terhadap cuaca?\n",
    "- Berapa jumlah rental sepeda terhadap pengguna terdaftar dan kasual?"
   ]
  },
  {
   "cell_type": "markdown",
   "id": "0e926077-bada-4e93-a4fe-e2558e007ea1",
   "metadata": {},
   "source": [
    "# Import Semua Packages/Library yang Digunakan"
   ]
  },
  {
   "cell_type": "code",
   "execution_count": 1,
   "id": "ac4d74df-07bd-44d0-b1cd-9c91acee9753",
   "metadata": {},
   "outputs": [],
   "source": [
    "import numpy as np\n",
    "import pandas as pd\n",
    "import matplotlib.pyplot as plt\n",
    "import seaborn as sns"
   ]
  },
  {
   "cell_type": "markdown",
   "id": "4235a9f5-be36-40f6-a1b1-4125754f13ba",
   "metadata": {},
   "source": [
    "# Data Wrangling"
   ]
  },
  {
   "cell_type": "markdown",
   "id": "7b94e8ca-2d04-4dc8-bed3-f7a961891fd6",
   "metadata": {},
   "source": [
    "## Gathering Data"
   ]
  },
  {
   "cell_type": "markdown",
   "id": "3c64e5cb-2bfc-464f-bdda-02c55e023bb9",
   "metadata": {},
   "source": [
    "Proyek ini memerlukan dua tabel data yang akan dimuat pada kode berikut"
   ]
  },
  {
   "cell_type": "markdown",
   "id": "54ec8d27-15b2-4567-a3ea-d020339adc42",
   "metadata": {},
   "source": [
    "#### Memuat data jumlah rental perjam"
   ]
  },
  {
   "cell_type": "code",
   "execution_count": 2,
   "id": "8ae86b36-6c4c-4b8a-895d-75840915fef8",
   "metadata": {
    "scrolled": true
   },
   "outputs": [
    {
     "data": {
      "text/html": [
       "<div>\n",
       "<style scoped>\n",
       "    .dataframe tbody tr th:only-of-type {\n",
       "        vertical-align: middle;\n",
       "    }\n",
       "\n",
       "    .dataframe tbody tr th {\n",
       "        vertical-align: top;\n",
       "    }\n",
       "\n",
       "    .dataframe thead th {\n",
       "        text-align: right;\n",
       "    }\n",
       "</style>\n",
       "<table border=\"1\" class=\"dataframe\">\n",
       "  <thead>\n",
       "    <tr style=\"text-align: right;\">\n",
       "      <th></th>\n",
       "      <th>instant</th>\n",
       "      <th>dteday</th>\n",
       "      <th>season</th>\n",
       "      <th>yr</th>\n",
       "      <th>mnth</th>\n",
       "      <th>hr</th>\n",
       "      <th>holiday</th>\n",
       "      <th>weekday</th>\n",
       "      <th>workingday</th>\n",
       "      <th>weathersit</th>\n",
       "      <th>temp</th>\n",
       "      <th>atemp</th>\n",
       "      <th>hum</th>\n",
       "      <th>windspeed</th>\n",
       "      <th>casual</th>\n",
       "      <th>registered</th>\n",
       "      <th>cnt</th>\n",
       "    </tr>\n",
       "  </thead>\n",
       "  <tbody>\n",
       "    <tr>\n",
       "      <th>0</th>\n",
       "      <td>1</td>\n",
       "      <td>2011-01-01</td>\n",
       "      <td>1</td>\n",
       "      <td>0</td>\n",
       "      <td>1</td>\n",
       "      <td>0</td>\n",
       "      <td>0</td>\n",
       "      <td>6</td>\n",
       "      <td>0</td>\n",
       "      <td>1</td>\n",
       "      <td>0.24</td>\n",
       "      <td>0.2879</td>\n",
       "      <td>0.81</td>\n",
       "      <td>0.0</td>\n",
       "      <td>3</td>\n",
       "      <td>13</td>\n",
       "      <td>16</td>\n",
       "    </tr>\n",
       "    <tr>\n",
       "      <th>1</th>\n",
       "      <td>2</td>\n",
       "      <td>2011-01-01</td>\n",
       "      <td>1</td>\n",
       "      <td>0</td>\n",
       "      <td>1</td>\n",
       "      <td>1</td>\n",
       "      <td>0</td>\n",
       "      <td>6</td>\n",
       "      <td>0</td>\n",
       "      <td>1</td>\n",
       "      <td>0.22</td>\n",
       "      <td>0.2727</td>\n",
       "      <td>0.80</td>\n",
       "      <td>0.0</td>\n",
       "      <td>8</td>\n",
       "      <td>32</td>\n",
       "      <td>40</td>\n",
       "    </tr>\n",
       "    <tr>\n",
       "      <th>2</th>\n",
       "      <td>3</td>\n",
       "      <td>2011-01-01</td>\n",
       "      <td>1</td>\n",
       "      <td>0</td>\n",
       "      <td>1</td>\n",
       "      <td>2</td>\n",
       "      <td>0</td>\n",
       "      <td>6</td>\n",
       "      <td>0</td>\n",
       "      <td>1</td>\n",
       "      <td>0.22</td>\n",
       "      <td>0.2727</td>\n",
       "      <td>0.80</td>\n",
       "      <td>0.0</td>\n",
       "      <td>5</td>\n",
       "      <td>27</td>\n",
       "      <td>32</td>\n",
       "    </tr>\n",
       "    <tr>\n",
       "      <th>3</th>\n",
       "      <td>4</td>\n",
       "      <td>2011-01-01</td>\n",
       "      <td>1</td>\n",
       "      <td>0</td>\n",
       "      <td>1</td>\n",
       "      <td>3</td>\n",
       "      <td>0</td>\n",
       "      <td>6</td>\n",
       "      <td>0</td>\n",
       "      <td>1</td>\n",
       "      <td>0.24</td>\n",
       "      <td>0.2879</td>\n",
       "      <td>0.75</td>\n",
       "      <td>0.0</td>\n",
       "      <td>3</td>\n",
       "      <td>10</td>\n",
       "      <td>13</td>\n",
       "    </tr>\n",
       "    <tr>\n",
       "      <th>4</th>\n",
       "      <td>5</td>\n",
       "      <td>2011-01-01</td>\n",
       "      <td>1</td>\n",
       "      <td>0</td>\n",
       "      <td>1</td>\n",
       "      <td>4</td>\n",
       "      <td>0</td>\n",
       "      <td>6</td>\n",
       "      <td>0</td>\n",
       "      <td>1</td>\n",
       "      <td>0.24</td>\n",
       "      <td>0.2879</td>\n",
       "      <td>0.75</td>\n",
       "      <td>0.0</td>\n",
       "      <td>0</td>\n",
       "      <td>1</td>\n",
       "      <td>1</td>\n",
       "    </tr>\n",
       "  </tbody>\n",
       "</table>\n",
       "</div>"
      ],
      "text/plain": [
       "   instant      dteday  season  yr  mnth  hr  holiday  weekday  workingday  \\\n",
       "0        1  2011-01-01       1   0     1   0        0        6           0   \n",
       "1        2  2011-01-01       1   0     1   1        0        6           0   \n",
       "2        3  2011-01-01       1   0     1   2        0        6           0   \n",
       "3        4  2011-01-01       1   0     1   3        0        6           0   \n",
       "4        5  2011-01-01       1   0     1   4        0        6           0   \n",
       "\n",
       "   weathersit  temp   atemp   hum  windspeed  casual  registered  cnt  \n",
       "0           1  0.24  0.2879  0.81        0.0       3          13   16  \n",
       "1           1  0.22  0.2727  0.80        0.0       8          32   40  \n",
       "2           1  0.22  0.2727  0.80        0.0       5          27   32  \n",
       "3           1  0.24  0.2879  0.75        0.0       3          10   13  \n",
       "4           1  0.24  0.2879  0.75        0.0       0           1    1  "
      ]
     },
     "execution_count": 2,
     "metadata": {},
     "output_type": "execute_result"
    }
   ],
   "source": [
    "hour_df = pd.read_csv('hour.csv')\n",
    "hour_df.head()"
   ]
  },
  {
   "cell_type": "markdown",
   "id": "e55a68ef-2f3b-40db-9e6e-418e0c7409f7",
   "metadata": {},
   "source": [
    "#### Memuat data jumlah rental perhari"
   ]
  },
  {
   "cell_type": "code",
   "execution_count": 3,
   "id": "e4e4b69a-268f-4939-9285-eadf8f5eea80",
   "metadata": {},
   "outputs": [
    {
     "data": {
      "text/html": [
       "<div>\n",
       "<style scoped>\n",
       "    .dataframe tbody tr th:only-of-type {\n",
       "        vertical-align: middle;\n",
       "    }\n",
       "\n",
       "    .dataframe tbody tr th {\n",
       "        vertical-align: top;\n",
       "    }\n",
       "\n",
       "    .dataframe thead th {\n",
       "        text-align: right;\n",
       "    }\n",
       "</style>\n",
       "<table border=\"1\" class=\"dataframe\">\n",
       "  <thead>\n",
       "    <tr style=\"text-align: right;\">\n",
       "      <th></th>\n",
       "      <th>instant</th>\n",
       "      <th>dteday</th>\n",
       "      <th>season</th>\n",
       "      <th>yr</th>\n",
       "      <th>mnth</th>\n",
       "      <th>holiday</th>\n",
       "      <th>weekday</th>\n",
       "      <th>workingday</th>\n",
       "      <th>weathersit</th>\n",
       "      <th>temp</th>\n",
       "      <th>atemp</th>\n",
       "      <th>hum</th>\n",
       "      <th>windspeed</th>\n",
       "      <th>casual</th>\n",
       "      <th>registered</th>\n",
       "      <th>cnt</th>\n",
       "    </tr>\n",
       "  </thead>\n",
       "  <tbody>\n",
       "    <tr>\n",
       "      <th>0</th>\n",
       "      <td>1</td>\n",
       "      <td>2011-01-01</td>\n",
       "      <td>1</td>\n",
       "      <td>0</td>\n",
       "      <td>1</td>\n",
       "      <td>0</td>\n",
       "      <td>6</td>\n",
       "      <td>0</td>\n",
       "      <td>2</td>\n",
       "      <td>0.344167</td>\n",
       "      <td>0.363625</td>\n",
       "      <td>0.805833</td>\n",
       "      <td>0.160446</td>\n",
       "      <td>331</td>\n",
       "      <td>654</td>\n",
       "      <td>985</td>\n",
       "    </tr>\n",
       "    <tr>\n",
       "      <th>1</th>\n",
       "      <td>2</td>\n",
       "      <td>2011-01-02</td>\n",
       "      <td>1</td>\n",
       "      <td>0</td>\n",
       "      <td>1</td>\n",
       "      <td>0</td>\n",
       "      <td>0</td>\n",
       "      <td>0</td>\n",
       "      <td>2</td>\n",
       "      <td>0.363478</td>\n",
       "      <td>0.353739</td>\n",
       "      <td>0.696087</td>\n",
       "      <td>0.248539</td>\n",
       "      <td>131</td>\n",
       "      <td>670</td>\n",
       "      <td>801</td>\n",
       "    </tr>\n",
       "    <tr>\n",
       "      <th>2</th>\n",
       "      <td>3</td>\n",
       "      <td>2011-01-03</td>\n",
       "      <td>1</td>\n",
       "      <td>0</td>\n",
       "      <td>1</td>\n",
       "      <td>0</td>\n",
       "      <td>1</td>\n",
       "      <td>1</td>\n",
       "      <td>1</td>\n",
       "      <td>0.196364</td>\n",
       "      <td>0.189405</td>\n",
       "      <td>0.437273</td>\n",
       "      <td>0.248309</td>\n",
       "      <td>120</td>\n",
       "      <td>1229</td>\n",
       "      <td>1349</td>\n",
       "    </tr>\n",
       "    <tr>\n",
       "      <th>3</th>\n",
       "      <td>4</td>\n",
       "      <td>2011-01-04</td>\n",
       "      <td>1</td>\n",
       "      <td>0</td>\n",
       "      <td>1</td>\n",
       "      <td>0</td>\n",
       "      <td>2</td>\n",
       "      <td>1</td>\n",
       "      <td>1</td>\n",
       "      <td>0.200000</td>\n",
       "      <td>0.212122</td>\n",
       "      <td>0.590435</td>\n",
       "      <td>0.160296</td>\n",
       "      <td>108</td>\n",
       "      <td>1454</td>\n",
       "      <td>1562</td>\n",
       "    </tr>\n",
       "    <tr>\n",
       "      <th>4</th>\n",
       "      <td>5</td>\n",
       "      <td>2011-01-05</td>\n",
       "      <td>1</td>\n",
       "      <td>0</td>\n",
       "      <td>1</td>\n",
       "      <td>0</td>\n",
       "      <td>3</td>\n",
       "      <td>1</td>\n",
       "      <td>1</td>\n",
       "      <td>0.226957</td>\n",
       "      <td>0.229270</td>\n",
       "      <td>0.436957</td>\n",
       "      <td>0.186900</td>\n",
       "      <td>82</td>\n",
       "      <td>1518</td>\n",
       "      <td>1600</td>\n",
       "    </tr>\n",
       "  </tbody>\n",
       "</table>\n",
       "</div>"
      ],
      "text/plain": [
       "   instant      dteday  season  yr  mnth  holiday  weekday  workingday  \\\n",
       "0        1  2011-01-01       1   0     1        0        6           0   \n",
       "1        2  2011-01-02       1   0     1        0        0           0   \n",
       "2        3  2011-01-03       1   0     1        0        1           1   \n",
       "3        4  2011-01-04       1   0     1        0        2           1   \n",
       "4        5  2011-01-05       1   0     1        0        3           1   \n",
       "\n",
       "   weathersit      temp     atemp       hum  windspeed  casual  registered  \\\n",
       "0           2  0.344167  0.363625  0.805833   0.160446     331         654   \n",
       "1           2  0.363478  0.353739  0.696087   0.248539     131         670   \n",
       "2           1  0.196364  0.189405  0.437273   0.248309     120        1229   \n",
       "3           1  0.200000  0.212122  0.590435   0.160296     108        1454   \n",
       "4           1  0.226957  0.229270  0.436957   0.186900      82        1518   \n",
       "\n",
       "    cnt  \n",
       "0   985  \n",
       "1   801  \n",
       "2  1349  \n",
       "3  1562  \n",
       "4  1600  "
      ]
     },
     "execution_count": 3,
     "metadata": {},
     "output_type": "execute_result"
    }
   ],
   "source": [
    "day_df = pd.read_csv('day.csv')\n",
    "day_df.head()"
   ]
  },
  {
   "cell_type": "markdown",
   "id": "1dbcd36a-dad9-425b-a06b-74c088653ffd",
   "metadata": {},
   "source": [
    "## Assessing Data"
   ]
  },
  {
   "cell_type": "markdown",
   "id": "aa9e8bab-61ef-4068-8eaf-fd8183a2c7bf",
   "metadata": {},
   "source": [
    "#### Menilai Data hour_df"
   ]
  },
  {
   "cell_type": "code",
   "execution_count": 4,
   "id": "7652649e-3414-421c-b52d-3e55dceaba3f",
   "metadata": {},
   "outputs": [
    {
     "name": "stdout",
     "output_type": "stream",
     "text": [
      "<class 'pandas.core.frame.DataFrame'>\n",
      "RangeIndex: 17379 entries, 0 to 17378\n",
      "Data columns (total 17 columns):\n",
      " #   Column      Non-Null Count  Dtype  \n",
      "---  ------      --------------  -----  \n",
      " 0   instant     17379 non-null  int64  \n",
      " 1   dteday      17379 non-null  object \n",
      " 2   season      17379 non-null  int64  \n",
      " 3   yr          17379 non-null  int64  \n",
      " 4   mnth        17379 non-null  int64  \n",
      " 5   hr          17379 non-null  int64  \n",
      " 6   holiday     17379 non-null  int64  \n",
      " 7   weekday     17379 non-null  int64  \n",
      " 8   workingday  17379 non-null  int64  \n",
      " 9   weathersit  17379 non-null  int64  \n",
      " 10  temp        17379 non-null  float64\n",
      " 11  atemp       17379 non-null  float64\n",
      " 12  hum         17379 non-null  float64\n",
      " 13  windspeed   17379 non-null  float64\n",
      " 14  casual      17379 non-null  int64  \n",
      " 15  registered  17379 non-null  int64  \n",
      " 16  cnt         17379 non-null  int64  \n",
      "dtypes: float64(4), int64(12), object(1)\n",
      "memory usage: 2.3+ MB\n"
     ]
    }
   ],
   "source": [
    "hour_df.info() #untuk mencari missing value dan tipe data"
   ]
  },
  {
   "cell_type": "code",
   "execution_count": 5,
   "id": "7a4977a9-85a7-4fa2-90d4-12a6ae353cbd",
   "metadata": {},
   "outputs": [
    {
     "data": {
      "text/plain": [
       "np.int64(0)"
      ]
     },
     "execution_count": 5,
     "metadata": {},
     "output_type": "execute_result"
    }
   ],
   "source": [
    "hour_df.duplicated().sum() #untuk mencari jumlah duplikat"
   ]
  },
  {
   "cell_type": "code",
   "execution_count": 6,
   "id": "6c050470-b189-4f71-a7d6-776217bf676a",
   "metadata": {},
   "outputs": [
    {
     "data": {
      "text/html": [
       "<div>\n",
       "<style scoped>\n",
       "    .dataframe tbody tr th:only-of-type {\n",
       "        vertical-align: middle;\n",
       "    }\n",
       "\n",
       "    .dataframe tbody tr th {\n",
       "        vertical-align: top;\n",
       "    }\n",
       "\n",
       "    .dataframe thead th {\n",
       "        text-align: right;\n",
       "    }\n",
       "</style>\n",
       "<table border=\"1\" class=\"dataframe\">\n",
       "  <thead>\n",
       "    <tr style=\"text-align: right;\">\n",
       "      <th></th>\n",
       "      <th>instant</th>\n",
       "      <th>dteday</th>\n",
       "      <th>season</th>\n",
       "      <th>yr</th>\n",
       "      <th>mnth</th>\n",
       "      <th>hr</th>\n",
       "      <th>holiday</th>\n",
       "      <th>weekday</th>\n",
       "      <th>workingday</th>\n",
       "      <th>weathersit</th>\n",
       "      <th>temp</th>\n",
       "      <th>atemp</th>\n",
       "      <th>hum</th>\n",
       "      <th>windspeed</th>\n",
       "      <th>casual</th>\n",
       "      <th>registered</th>\n",
       "      <th>cnt</th>\n",
       "    </tr>\n",
       "  </thead>\n",
       "  <tbody>\n",
       "    <tr>\n",
       "      <th>count</th>\n",
       "      <td>17379.0000</td>\n",
       "      <td>17379</td>\n",
       "      <td>17379.000000</td>\n",
       "      <td>17379.000000</td>\n",
       "      <td>17379.000000</td>\n",
       "      <td>17379.000000</td>\n",
       "      <td>17379.000000</td>\n",
       "      <td>17379.000000</td>\n",
       "      <td>17379.000000</td>\n",
       "      <td>17379.000000</td>\n",
       "      <td>17379.000000</td>\n",
       "      <td>17379.000000</td>\n",
       "      <td>17379.000000</td>\n",
       "      <td>17379.000000</td>\n",
       "      <td>17379.000000</td>\n",
       "      <td>17379.000000</td>\n",
       "      <td>17379.000000</td>\n",
       "    </tr>\n",
       "    <tr>\n",
       "      <th>unique</th>\n",
       "      <td>NaN</td>\n",
       "      <td>731</td>\n",
       "      <td>NaN</td>\n",
       "      <td>NaN</td>\n",
       "      <td>NaN</td>\n",
       "      <td>NaN</td>\n",
       "      <td>NaN</td>\n",
       "      <td>NaN</td>\n",
       "      <td>NaN</td>\n",
       "      <td>NaN</td>\n",
       "      <td>NaN</td>\n",
       "      <td>NaN</td>\n",
       "      <td>NaN</td>\n",
       "      <td>NaN</td>\n",
       "      <td>NaN</td>\n",
       "      <td>NaN</td>\n",
       "      <td>NaN</td>\n",
       "    </tr>\n",
       "    <tr>\n",
       "      <th>top</th>\n",
       "      <td>NaN</td>\n",
       "      <td>2012-12-31</td>\n",
       "      <td>NaN</td>\n",
       "      <td>NaN</td>\n",
       "      <td>NaN</td>\n",
       "      <td>NaN</td>\n",
       "      <td>NaN</td>\n",
       "      <td>NaN</td>\n",
       "      <td>NaN</td>\n",
       "      <td>NaN</td>\n",
       "      <td>NaN</td>\n",
       "      <td>NaN</td>\n",
       "      <td>NaN</td>\n",
       "      <td>NaN</td>\n",
       "      <td>NaN</td>\n",
       "      <td>NaN</td>\n",
       "      <td>NaN</td>\n",
       "    </tr>\n",
       "    <tr>\n",
       "      <th>freq</th>\n",
       "      <td>NaN</td>\n",
       "      <td>24</td>\n",
       "      <td>NaN</td>\n",
       "      <td>NaN</td>\n",
       "      <td>NaN</td>\n",
       "      <td>NaN</td>\n",
       "      <td>NaN</td>\n",
       "      <td>NaN</td>\n",
       "      <td>NaN</td>\n",
       "      <td>NaN</td>\n",
       "      <td>NaN</td>\n",
       "      <td>NaN</td>\n",
       "      <td>NaN</td>\n",
       "      <td>NaN</td>\n",
       "      <td>NaN</td>\n",
       "      <td>NaN</td>\n",
       "      <td>NaN</td>\n",
       "    </tr>\n",
       "    <tr>\n",
       "      <th>mean</th>\n",
       "      <td>8690.0000</td>\n",
       "      <td>NaN</td>\n",
       "      <td>2.501640</td>\n",
       "      <td>0.502561</td>\n",
       "      <td>6.537775</td>\n",
       "      <td>11.546752</td>\n",
       "      <td>0.028770</td>\n",
       "      <td>3.003683</td>\n",
       "      <td>0.682721</td>\n",
       "      <td>1.425283</td>\n",
       "      <td>0.496987</td>\n",
       "      <td>0.475775</td>\n",
       "      <td>0.627229</td>\n",
       "      <td>0.190098</td>\n",
       "      <td>35.676218</td>\n",
       "      <td>153.786869</td>\n",
       "      <td>189.463088</td>\n",
       "    </tr>\n",
       "    <tr>\n",
       "      <th>std</th>\n",
       "      <td>5017.0295</td>\n",
       "      <td>NaN</td>\n",
       "      <td>1.106918</td>\n",
       "      <td>0.500008</td>\n",
       "      <td>3.438776</td>\n",
       "      <td>6.914405</td>\n",
       "      <td>0.167165</td>\n",
       "      <td>2.005771</td>\n",
       "      <td>0.465431</td>\n",
       "      <td>0.639357</td>\n",
       "      <td>0.192556</td>\n",
       "      <td>0.171850</td>\n",
       "      <td>0.192930</td>\n",
       "      <td>0.122340</td>\n",
       "      <td>49.305030</td>\n",
       "      <td>151.357286</td>\n",
       "      <td>181.387599</td>\n",
       "    </tr>\n",
       "    <tr>\n",
       "      <th>min</th>\n",
       "      <td>1.0000</td>\n",
       "      <td>NaN</td>\n",
       "      <td>1.000000</td>\n",
       "      <td>0.000000</td>\n",
       "      <td>1.000000</td>\n",
       "      <td>0.000000</td>\n",
       "      <td>0.000000</td>\n",
       "      <td>0.000000</td>\n",
       "      <td>0.000000</td>\n",
       "      <td>1.000000</td>\n",
       "      <td>0.020000</td>\n",
       "      <td>0.000000</td>\n",
       "      <td>0.000000</td>\n",
       "      <td>0.000000</td>\n",
       "      <td>0.000000</td>\n",
       "      <td>0.000000</td>\n",
       "      <td>1.000000</td>\n",
       "    </tr>\n",
       "    <tr>\n",
       "      <th>25%</th>\n",
       "      <td>4345.5000</td>\n",
       "      <td>NaN</td>\n",
       "      <td>2.000000</td>\n",
       "      <td>0.000000</td>\n",
       "      <td>4.000000</td>\n",
       "      <td>6.000000</td>\n",
       "      <td>0.000000</td>\n",
       "      <td>1.000000</td>\n",
       "      <td>0.000000</td>\n",
       "      <td>1.000000</td>\n",
       "      <td>0.340000</td>\n",
       "      <td>0.333300</td>\n",
       "      <td>0.480000</td>\n",
       "      <td>0.104500</td>\n",
       "      <td>4.000000</td>\n",
       "      <td>34.000000</td>\n",
       "      <td>40.000000</td>\n",
       "    </tr>\n",
       "    <tr>\n",
       "      <th>50%</th>\n",
       "      <td>8690.0000</td>\n",
       "      <td>NaN</td>\n",
       "      <td>3.000000</td>\n",
       "      <td>1.000000</td>\n",
       "      <td>7.000000</td>\n",
       "      <td>12.000000</td>\n",
       "      <td>0.000000</td>\n",
       "      <td>3.000000</td>\n",
       "      <td>1.000000</td>\n",
       "      <td>1.000000</td>\n",
       "      <td>0.500000</td>\n",
       "      <td>0.484800</td>\n",
       "      <td>0.630000</td>\n",
       "      <td>0.194000</td>\n",
       "      <td>17.000000</td>\n",
       "      <td>115.000000</td>\n",
       "      <td>142.000000</td>\n",
       "    </tr>\n",
       "    <tr>\n",
       "      <th>75%</th>\n",
       "      <td>13034.5000</td>\n",
       "      <td>NaN</td>\n",
       "      <td>3.000000</td>\n",
       "      <td>1.000000</td>\n",
       "      <td>10.000000</td>\n",
       "      <td>18.000000</td>\n",
       "      <td>0.000000</td>\n",
       "      <td>5.000000</td>\n",
       "      <td>1.000000</td>\n",
       "      <td>2.000000</td>\n",
       "      <td>0.660000</td>\n",
       "      <td>0.621200</td>\n",
       "      <td>0.780000</td>\n",
       "      <td>0.253700</td>\n",
       "      <td>48.000000</td>\n",
       "      <td>220.000000</td>\n",
       "      <td>281.000000</td>\n",
       "    </tr>\n",
       "    <tr>\n",
       "      <th>max</th>\n",
       "      <td>17379.0000</td>\n",
       "      <td>NaN</td>\n",
       "      <td>4.000000</td>\n",
       "      <td>1.000000</td>\n",
       "      <td>12.000000</td>\n",
       "      <td>23.000000</td>\n",
       "      <td>1.000000</td>\n",
       "      <td>6.000000</td>\n",
       "      <td>1.000000</td>\n",
       "      <td>4.000000</td>\n",
       "      <td>1.000000</td>\n",
       "      <td>1.000000</td>\n",
       "      <td>1.000000</td>\n",
       "      <td>0.850700</td>\n",
       "      <td>367.000000</td>\n",
       "      <td>886.000000</td>\n",
       "      <td>977.000000</td>\n",
       "    </tr>\n",
       "  </tbody>\n",
       "</table>\n",
       "</div>"
      ],
      "text/plain": [
       "           instant      dteday        season            yr          mnth  \\\n",
       "count   17379.0000       17379  17379.000000  17379.000000  17379.000000   \n",
       "unique         NaN         731           NaN           NaN           NaN   \n",
       "top            NaN  2012-12-31           NaN           NaN           NaN   \n",
       "freq           NaN          24           NaN           NaN           NaN   \n",
       "mean     8690.0000         NaN      2.501640      0.502561      6.537775   \n",
       "std      5017.0295         NaN      1.106918      0.500008      3.438776   \n",
       "min         1.0000         NaN      1.000000      0.000000      1.000000   \n",
       "25%      4345.5000         NaN      2.000000      0.000000      4.000000   \n",
       "50%      8690.0000         NaN      3.000000      1.000000      7.000000   \n",
       "75%     13034.5000         NaN      3.000000      1.000000     10.000000   \n",
       "max     17379.0000         NaN      4.000000      1.000000     12.000000   \n",
       "\n",
       "                  hr       holiday       weekday    workingday    weathersit  \\\n",
       "count   17379.000000  17379.000000  17379.000000  17379.000000  17379.000000   \n",
       "unique           NaN           NaN           NaN           NaN           NaN   \n",
       "top              NaN           NaN           NaN           NaN           NaN   \n",
       "freq             NaN           NaN           NaN           NaN           NaN   \n",
       "mean       11.546752      0.028770      3.003683      0.682721      1.425283   \n",
       "std         6.914405      0.167165      2.005771      0.465431      0.639357   \n",
       "min         0.000000      0.000000      0.000000      0.000000      1.000000   \n",
       "25%         6.000000      0.000000      1.000000      0.000000      1.000000   \n",
       "50%        12.000000      0.000000      3.000000      1.000000      1.000000   \n",
       "75%        18.000000      0.000000      5.000000      1.000000      2.000000   \n",
       "max        23.000000      1.000000      6.000000      1.000000      4.000000   \n",
       "\n",
       "                temp         atemp           hum     windspeed        casual  \\\n",
       "count   17379.000000  17379.000000  17379.000000  17379.000000  17379.000000   \n",
       "unique           NaN           NaN           NaN           NaN           NaN   \n",
       "top              NaN           NaN           NaN           NaN           NaN   \n",
       "freq             NaN           NaN           NaN           NaN           NaN   \n",
       "mean        0.496987      0.475775      0.627229      0.190098     35.676218   \n",
       "std         0.192556      0.171850      0.192930      0.122340     49.305030   \n",
       "min         0.020000      0.000000      0.000000      0.000000      0.000000   \n",
       "25%         0.340000      0.333300      0.480000      0.104500      4.000000   \n",
       "50%         0.500000      0.484800      0.630000      0.194000     17.000000   \n",
       "75%         0.660000      0.621200      0.780000      0.253700     48.000000   \n",
       "max         1.000000      1.000000      1.000000      0.850700    367.000000   \n",
       "\n",
       "          registered           cnt  \n",
       "count   17379.000000  17379.000000  \n",
       "unique           NaN           NaN  \n",
       "top              NaN           NaN  \n",
       "freq             NaN           NaN  \n",
       "mean      153.786869    189.463088  \n",
       "std       151.357286    181.387599  \n",
       "min         0.000000      1.000000  \n",
       "25%        34.000000     40.000000  \n",
       "50%       115.000000    142.000000  \n",
       "75%       220.000000    281.000000  \n",
       "max       886.000000    977.000000  "
      ]
     },
     "execution_count": 6,
     "metadata": {},
     "output_type": "execute_result"
    }
   ],
   "source": [
    "hour_df.describe(include='all') #untuk mencari karakteristik khusus dari suatu atribut atau kolom"
   ]
  },
  {
   "cell_type": "markdown",
   "id": "35e68f06-6b8a-425b-b011-9ffc6a120e44",
   "metadata": {},
   "source": [
    "tipe data kolom dteday masih object. akan diubah menjadi tipe data datetime. terkait duplikasi dan lainnya, tabel hour_df tidak ada masalah"
   ]
  },
  {
   "cell_type": "markdown",
   "id": "98d35203-0fa3-4503-8aa9-592e8530b473",
   "metadata": {},
   "source": [
    "#### Menilai Data day_df"
   ]
  },
  {
   "cell_type": "code",
   "execution_count": 7,
   "id": "8a10d8db-8e73-408e-ba4b-a989b814c0f7",
   "metadata": {},
   "outputs": [
    {
     "name": "stdout",
     "output_type": "stream",
     "text": [
      "<class 'pandas.core.frame.DataFrame'>\n",
      "RangeIndex: 731 entries, 0 to 730\n",
      "Data columns (total 16 columns):\n",
      " #   Column      Non-Null Count  Dtype  \n",
      "---  ------      --------------  -----  \n",
      " 0   instant     731 non-null    int64  \n",
      " 1   dteday      731 non-null    object \n",
      " 2   season      731 non-null    int64  \n",
      " 3   yr          731 non-null    int64  \n",
      " 4   mnth        731 non-null    int64  \n",
      " 5   holiday     731 non-null    int64  \n",
      " 6   weekday     731 non-null    int64  \n",
      " 7   workingday  731 non-null    int64  \n",
      " 8   weathersit  731 non-null    int64  \n",
      " 9   temp        731 non-null    float64\n",
      " 10  atemp       731 non-null    float64\n",
      " 11  hum         731 non-null    float64\n",
      " 12  windspeed   731 non-null    float64\n",
      " 13  casual      731 non-null    int64  \n",
      " 14  registered  731 non-null    int64  \n",
      " 15  cnt         731 non-null    int64  \n",
      "dtypes: float64(4), int64(11), object(1)\n",
      "memory usage: 91.5+ KB\n"
     ]
    }
   ],
   "source": [
    "day_df.info() #untuk mencari missing value dan tipe data"
   ]
  },
  {
   "cell_type": "code",
   "execution_count": 8,
   "id": "3932c672-2c03-45e7-b697-2b6803018913",
   "metadata": {},
   "outputs": [
    {
     "data": {
      "text/plain": [
       "np.int64(0)"
      ]
     },
     "execution_count": 8,
     "metadata": {},
     "output_type": "execute_result"
    }
   ],
   "source": [
    "day_df.duplicated().sum() #untuk mencari nilai duplikat"
   ]
  },
  {
   "cell_type": "code",
   "execution_count": 9,
   "id": "08947175-e5cc-4273-b88c-1f7423ebe6f5",
   "metadata": {},
   "outputs": [
    {
     "data": {
      "text/html": [
       "<div>\n",
       "<style scoped>\n",
       "    .dataframe tbody tr th:only-of-type {\n",
       "        vertical-align: middle;\n",
       "    }\n",
       "\n",
       "    .dataframe tbody tr th {\n",
       "        vertical-align: top;\n",
       "    }\n",
       "\n",
       "    .dataframe thead th {\n",
       "        text-align: right;\n",
       "    }\n",
       "</style>\n",
       "<table border=\"1\" class=\"dataframe\">\n",
       "  <thead>\n",
       "    <tr style=\"text-align: right;\">\n",
       "      <th></th>\n",
       "      <th>instant</th>\n",
       "      <th>dteday</th>\n",
       "      <th>season</th>\n",
       "      <th>yr</th>\n",
       "      <th>mnth</th>\n",
       "      <th>holiday</th>\n",
       "      <th>weekday</th>\n",
       "      <th>workingday</th>\n",
       "      <th>weathersit</th>\n",
       "      <th>temp</th>\n",
       "      <th>atemp</th>\n",
       "      <th>hum</th>\n",
       "      <th>windspeed</th>\n",
       "      <th>casual</th>\n",
       "      <th>registered</th>\n",
       "      <th>cnt</th>\n",
       "    </tr>\n",
       "  </thead>\n",
       "  <tbody>\n",
       "    <tr>\n",
       "      <th>count</th>\n",
       "      <td>731.000000</td>\n",
       "      <td>731</td>\n",
       "      <td>731.000000</td>\n",
       "      <td>731.000000</td>\n",
       "      <td>731.000000</td>\n",
       "      <td>731.000000</td>\n",
       "      <td>731.000000</td>\n",
       "      <td>731.000000</td>\n",
       "      <td>731.000000</td>\n",
       "      <td>731.000000</td>\n",
       "      <td>731.000000</td>\n",
       "      <td>731.000000</td>\n",
       "      <td>731.000000</td>\n",
       "      <td>731.000000</td>\n",
       "      <td>731.000000</td>\n",
       "      <td>731.000000</td>\n",
       "    </tr>\n",
       "    <tr>\n",
       "      <th>unique</th>\n",
       "      <td>NaN</td>\n",
       "      <td>731</td>\n",
       "      <td>NaN</td>\n",
       "      <td>NaN</td>\n",
       "      <td>NaN</td>\n",
       "      <td>NaN</td>\n",
       "      <td>NaN</td>\n",
       "      <td>NaN</td>\n",
       "      <td>NaN</td>\n",
       "      <td>NaN</td>\n",
       "      <td>NaN</td>\n",
       "      <td>NaN</td>\n",
       "      <td>NaN</td>\n",
       "      <td>NaN</td>\n",
       "      <td>NaN</td>\n",
       "      <td>NaN</td>\n",
       "    </tr>\n",
       "    <tr>\n",
       "      <th>top</th>\n",
       "      <td>NaN</td>\n",
       "      <td>2012-12-31</td>\n",
       "      <td>NaN</td>\n",
       "      <td>NaN</td>\n",
       "      <td>NaN</td>\n",
       "      <td>NaN</td>\n",
       "      <td>NaN</td>\n",
       "      <td>NaN</td>\n",
       "      <td>NaN</td>\n",
       "      <td>NaN</td>\n",
       "      <td>NaN</td>\n",
       "      <td>NaN</td>\n",
       "      <td>NaN</td>\n",
       "      <td>NaN</td>\n",
       "      <td>NaN</td>\n",
       "      <td>NaN</td>\n",
       "    </tr>\n",
       "    <tr>\n",
       "      <th>freq</th>\n",
       "      <td>NaN</td>\n",
       "      <td>1</td>\n",
       "      <td>NaN</td>\n",
       "      <td>NaN</td>\n",
       "      <td>NaN</td>\n",
       "      <td>NaN</td>\n",
       "      <td>NaN</td>\n",
       "      <td>NaN</td>\n",
       "      <td>NaN</td>\n",
       "      <td>NaN</td>\n",
       "      <td>NaN</td>\n",
       "      <td>NaN</td>\n",
       "      <td>NaN</td>\n",
       "      <td>NaN</td>\n",
       "      <td>NaN</td>\n",
       "      <td>NaN</td>\n",
       "    </tr>\n",
       "    <tr>\n",
       "      <th>mean</th>\n",
       "      <td>366.000000</td>\n",
       "      <td>NaN</td>\n",
       "      <td>2.496580</td>\n",
       "      <td>0.500684</td>\n",
       "      <td>6.519836</td>\n",
       "      <td>0.028728</td>\n",
       "      <td>2.997264</td>\n",
       "      <td>0.683995</td>\n",
       "      <td>1.395349</td>\n",
       "      <td>0.495385</td>\n",
       "      <td>0.474354</td>\n",
       "      <td>0.627894</td>\n",
       "      <td>0.190486</td>\n",
       "      <td>848.176471</td>\n",
       "      <td>3656.172367</td>\n",
       "      <td>4504.348837</td>\n",
       "    </tr>\n",
       "    <tr>\n",
       "      <th>std</th>\n",
       "      <td>211.165812</td>\n",
       "      <td>NaN</td>\n",
       "      <td>1.110807</td>\n",
       "      <td>0.500342</td>\n",
       "      <td>3.451913</td>\n",
       "      <td>0.167155</td>\n",
       "      <td>2.004787</td>\n",
       "      <td>0.465233</td>\n",
       "      <td>0.544894</td>\n",
       "      <td>0.183051</td>\n",
       "      <td>0.162961</td>\n",
       "      <td>0.142429</td>\n",
       "      <td>0.077498</td>\n",
       "      <td>686.622488</td>\n",
       "      <td>1560.256377</td>\n",
       "      <td>1937.211452</td>\n",
       "    </tr>\n",
       "    <tr>\n",
       "      <th>min</th>\n",
       "      <td>1.000000</td>\n",
       "      <td>NaN</td>\n",
       "      <td>1.000000</td>\n",
       "      <td>0.000000</td>\n",
       "      <td>1.000000</td>\n",
       "      <td>0.000000</td>\n",
       "      <td>0.000000</td>\n",
       "      <td>0.000000</td>\n",
       "      <td>1.000000</td>\n",
       "      <td>0.059130</td>\n",
       "      <td>0.079070</td>\n",
       "      <td>0.000000</td>\n",
       "      <td>0.022392</td>\n",
       "      <td>2.000000</td>\n",
       "      <td>20.000000</td>\n",
       "      <td>22.000000</td>\n",
       "    </tr>\n",
       "    <tr>\n",
       "      <th>25%</th>\n",
       "      <td>183.500000</td>\n",
       "      <td>NaN</td>\n",
       "      <td>2.000000</td>\n",
       "      <td>0.000000</td>\n",
       "      <td>4.000000</td>\n",
       "      <td>0.000000</td>\n",
       "      <td>1.000000</td>\n",
       "      <td>0.000000</td>\n",
       "      <td>1.000000</td>\n",
       "      <td>0.337083</td>\n",
       "      <td>0.337842</td>\n",
       "      <td>0.520000</td>\n",
       "      <td>0.134950</td>\n",
       "      <td>315.500000</td>\n",
       "      <td>2497.000000</td>\n",
       "      <td>3152.000000</td>\n",
       "    </tr>\n",
       "    <tr>\n",
       "      <th>50%</th>\n",
       "      <td>366.000000</td>\n",
       "      <td>NaN</td>\n",
       "      <td>3.000000</td>\n",
       "      <td>1.000000</td>\n",
       "      <td>7.000000</td>\n",
       "      <td>0.000000</td>\n",
       "      <td>3.000000</td>\n",
       "      <td>1.000000</td>\n",
       "      <td>1.000000</td>\n",
       "      <td>0.498333</td>\n",
       "      <td>0.486733</td>\n",
       "      <td>0.626667</td>\n",
       "      <td>0.180975</td>\n",
       "      <td>713.000000</td>\n",
       "      <td>3662.000000</td>\n",
       "      <td>4548.000000</td>\n",
       "    </tr>\n",
       "    <tr>\n",
       "      <th>75%</th>\n",
       "      <td>548.500000</td>\n",
       "      <td>NaN</td>\n",
       "      <td>3.000000</td>\n",
       "      <td>1.000000</td>\n",
       "      <td>10.000000</td>\n",
       "      <td>0.000000</td>\n",
       "      <td>5.000000</td>\n",
       "      <td>1.000000</td>\n",
       "      <td>2.000000</td>\n",
       "      <td>0.655417</td>\n",
       "      <td>0.608602</td>\n",
       "      <td>0.730209</td>\n",
       "      <td>0.233214</td>\n",
       "      <td>1096.000000</td>\n",
       "      <td>4776.500000</td>\n",
       "      <td>5956.000000</td>\n",
       "    </tr>\n",
       "    <tr>\n",
       "      <th>max</th>\n",
       "      <td>731.000000</td>\n",
       "      <td>NaN</td>\n",
       "      <td>4.000000</td>\n",
       "      <td>1.000000</td>\n",
       "      <td>12.000000</td>\n",
       "      <td>1.000000</td>\n",
       "      <td>6.000000</td>\n",
       "      <td>1.000000</td>\n",
       "      <td>3.000000</td>\n",
       "      <td>0.861667</td>\n",
       "      <td>0.840896</td>\n",
       "      <td>0.972500</td>\n",
       "      <td>0.507463</td>\n",
       "      <td>3410.000000</td>\n",
       "      <td>6946.000000</td>\n",
       "      <td>8714.000000</td>\n",
       "    </tr>\n",
       "  </tbody>\n",
       "</table>\n",
       "</div>"
      ],
      "text/plain": [
       "           instant      dteday      season          yr        mnth  \\\n",
       "count   731.000000         731  731.000000  731.000000  731.000000   \n",
       "unique         NaN         731         NaN         NaN         NaN   \n",
       "top            NaN  2012-12-31         NaN         NaN         NaN   \n",
       "freq           NaN           1         NaN         NaN         NaN   \n",
       "mean    366.000000         NaN    2.496580    0.500684    6.519836   \n",
       "std     211.165812         NaN    1.110807    0.500342    3.451913   \n",
       "min       1.000000         NaN    1.000000    0.000000    1.000000   \n",
       "25%     183.500000         NaN    2.000000    0.000000    4.000000   \n",
       "50%     366.000000         NaN    3.000000    1.000000    7.000000   \n",
       "75%     548.500000         NaN    3.000000    1.000000   10.000000   \n",
       "max     731.000000         NaN    4.000000    1.000000   12.000000   \n",
       "\n",
       "           holiday     weekday  workingday  weathersit        temp  \\\n",
       "count   731.000000  731.000000  731.000000  731.000000  731.000000   \n",
       "unique         NaN         NaN         NaN         NaN         NaN   \n",
       "top            NaN         NaN         NaN         NaN         NaN   \n",
       "freq           NaN         NaN         NaN         NaN         NaN   \n",
       "mean      0.028728    2.997264    0.683995    1.395349    0.495385   \n",
       "std       0.167155    2.004787    0.465233    0.544894    0.183051   \n",
       "min       0.000000    0.000000    0.000000    1.000000    0.059130   \n",
       "25%       0.000000    1.000000    0.000000    1.000000    0.337083   \n",
       "50%       0.000000    3.000000    1.000000    1.000000    0.498333   \n",
       "75%       0.000000    5.000000    1.000000    2.000000    0.655417   \n",
       "max       1.000000    6.000000    1.000000    3.000000    0.861667   \n",
       "\n",
       "             atemp         hum   windspeed       casual   registered  \\\n",
       "count   731.000000  731.000000  731.000000   731.000000   731.000000   \n",
       "unique         NaN         NaN         NaN          NaN          NaN   \n",
       "top            NaN         NaN         NaN          NaN          NaN   \n",
       "freq           NaN         NaN         NaN          NaN          NaN   \n",
       "mean      0.474354    0.627894    0.190486   848.176471  3656.172367   \n",
       "std       0.162961    0.142429    0.077498   686.622488  1560.256377   \n",
       "min       0.079070    0.000000    0.022392     2.000000    20.000000   \n",
       "25%       0.337842    0.520000    0.134950   315.500000  2497.000000   \n",
       "50%       0.486733    0.626667    0.180975   713.000000  3662.000000   \n",
       "75%       0.608602    0.730209    0.233214  1096.000000  4776.500000   \n",
       "max       0.840896    0.972500    0.507463  3410.000000  6946.000000   \n",
       "\n",
       "                cnt  \n",
       "count    731.000000  \n",
       "unique          NaN  \n",
       "top             NaN  \n",
       "freq            NaN  \n",
       "mean    4504.348837  \n",
       "std     1937.211452  \n",
       "min       22.000000  \n",
       "25%     3152.000000  \n",
       "50%     4548.000000  \n",
       "75%     5956.000000  \n",
       "max     8714.000000  "
      ]
     },
     "execution_count": 9,
     "metadata": {},
     "output_type": "execute_result"
    }
   ],
   "source": [
    "day_df.describe(include='all') #untuk mencari karakteristik khusus dari suatu atribut atau kolom"
   ]
  },
  {
   "cell_type": "markdown",
   "id": "15e7ef9d-396f-436d-b824-aa2b7ccc948d",
   "metadata": {},
   "source": [
    "tabel day_df juga hanya perlu mengganti tipe data pada kolom dteday menjadi datetime."
   ]
  },
  {
   "cell_type": "markdown",
   "id": "ce55895b-2a4c-4d30-8f0a-1a69daec8d79",
   "metadata": {},
   "source": [
    "# Cleaning Data"
   ]
  },
  {
   "cell_type": "markdown",
   "id": "b0bb68cf-bdc8-4c1a-ae7a-23e355896257",
   "metadata": {},
   "source": [
    "kolom dteday pada tabel hour_df dan day_df akan diubah pada kode berikut ini"
   ]
  },
  {
   "cell_type": "code",
   "execution_count": 10,
   "id": "f8607f63-5e25-480f-b096-8cfc6db6ff66",
   "metadata": {},
   "outputs": [],
   "source": [
    "#mengubah tipe data object menjadi string\n",
    "hour_df['dteday'] = pd.to_datetime(hour_df['dteday'])\n",
    "day_df['dteday'] = pd.to_datetime(day_df['dteday'])"
   ]
  },
  {
   "cell_type": "code",
   "execution_count": 11,
   "id": "86c01c7c-3fa7-4b5f-baa8-9da41fe0204e",
   "metadata": {},
   "outputs": [
    {
     "name": "stdout",
     "output_type": "stream",
     "text": [
      "<class 'pandas.core.frame.DataFrame'>\n",
      "RangeIndex: 17379 entries, 0 to 17378\n",
      "Data columns (total 17 columns):\n",
      " #   Column      Non-Null Count  Dtype         \n",
      "---  ------      --------------  -----         \n",
      " 0   instant     17379 non-null  int64         \n",
      " 1   dteday      17379 non-null  datetime64[ns]\n",
      " 2   season      17379 non-null  int64         \n",
      " 3   yr          17379 non-null  int64         \n",
      " 4   mnth        17379 non-null  int64         \n",
      " 5   hr          17379 non-null  int64         \n",
      " 6   holiday     17379 non-null  int64         \n",
      " 7   weekday     17379 non-null  int64         \n",
      " 8   workingday  17379 non-null  int64         \n",
      " 9   weathersit  17379 non-null  int64         \n",
      " 10  temp        17379 non-null  float64       \n",
      " 11  atemp       17379 non-null  float64       \n",
      " 12  hum         17379 non-null  float64       \n",
      " 13  windspeed   17379 non-null  float64       \n",
      " 14  casual      17379 non-null  int64         \n",
      " 15  registered  17379 non-null  int64         \n",
      " 16  cnt         17379 non-null  int64         \n",
      "dtypes: datetime64[ns](1), float64(4), int64(12)\n",
      "memory usage: 2.3 MB\n"
     ]
    }
   ],
   "source": [
    "hour_df.info()"
   ]
  },
  {
   "cell_type": "code",
   "execution_count": 12,
   "id": "42a09d07-d3b0-4fc9-8ede-3cb78acd0201",
   "metadata": {},
   "outputs": [
    {
     "name": "stdout",
     "output_type": "stream",
     "text": [
      "<class 'pandas.core.frame.DataFrame'>\n",
      "RangeIndex: 731 entries, 0 to 730\n",
      "Data columns (total 16 columns):\n",
      " #   Column      Non-Null Count  Dtype         \n",
      "---  ------      --------------  -----         \n",
      " 0   instant     731 non-null    int64         \n",
      " 1   dteday      731 non-null    datetime64[ns]\n",
      " 2   season      731 non-null    int64         \n",
      " 3   yr          731 non-null    int64         \n",
      " 4   mnth        731 non-null    int64         \n",
      " 5   holiday     731 non-null    int64         \n",
      " 6   weekday     731 non-null    int64         \n",
      " 7   workingday  731 non-null    int64         \n",
      " 8   weathersit  731 non-null    int64         \n",
      " 9   temp        731 non-null    float64       \n",
      " 10  atemp       731 non-null    float64       \n",
      " 11  hum         731 non-null    float64       \n",
      " 12  windspeed   731 non-null    float64       \n",
      " 13  casual      731 non-null    int64         \n",
      " 14  registered  731 non-null    int64         \n",
      " 15  cnt         731 non-null    int64         \n",
      "dtypes: datetime64[ns](1), float64(4), int64(11)\n",
      "memory usage: 91.5 KB\n"
     ]
    }
   ],
   "source": [
    "day_df.info()"
   ]
  },
  {
   "cell_type": "markdown",
   "id": "285d4049-193e-4301-b232-54b9d9dd47af",
   "metadata": {},
   "source": [
    "kolom dteday pada kedua tabel sudah berubah menjadi datetime. sekarang kita sudah bisa melakukan explorasi data"
   ]
  },
  {
   "cell_type": "markdown",
   "id": "778f8db5-4aa3-43be-a640-22a96d272ac7",
   "metadata": {},
   "source": [
    "# Exploratory Data Analysis (EDA)"
   ]
  },
  {
   "cell_type": "markdown",
   "id": "1f93f947-7575-44a9-bd39-20a630f1e78b",
   "metadata": {},
   "source": [
    "## 1. Pada bulan apa rental sepeda terbanyak terjadi?"
   ]
  },
  {
   "cell_type": "markdown",
   "id": "5d8e369b-0eaa-4b6b-9590-8a2a9983b0fc",
   "metadata": {},
   "source": [
    "untuk menjawab pertanyaan pertama. kita akan menggunakan groupby() berdasarkan kolom mnth untuk melihat jumlah rental pada tiap bulannya"
   ]
  },
  {
   "cell_type": "code",
   "execution_count": 13,
   "id": "18a66e5d-4a03-43e1-aa35-b23ef3f82901",
   "metadata": {},
   "outputs": [
    {
     "data": {
      "text/html": [
       "<div>\n",
       "<style scoped>\n",
       "    .dataframe tbody tr th:only-of-type {\n",
       "        vertical-align: middle;\n",
       "    }\n",
       "\n",
       "    .dataframe tbody tr th {\n",
       "        vertical-align: top;\n",
       "    }\n",
       "\n",
       "    .dataframe thead th {\n",
       "        text-align: right;\n",
       "    }\n",
       "</style>\n",
       "<table border=\"1\" class=\"dataframe\">\n",
       "  <thead>\n",
       "    <tr style=\"text-align: right;\">\n",
       "      <th></th>\n",
       "      <th>cnt</th>\n",
       "    </tr>\n",
       "    <tr>\n",
       "      <th>mnth</th>\n",
       "      <th></th>\n",
       "    </tr>\n",
       "  </thead>\n",
       "  <tbody>\n",
       "    <tr>\n",
       "      <th>1</th>\n",
       "      <td>134933</td>\n",
       "    </tr>\n",
       "    <tr>\n",
       "      <th>2</th>\n",
       "      <td>151352</td>\n",
       "    </tr>\n",
       "    <tr>\n",
       "      <th>3</th>\n",
       "      <td>228920</td>\n",
       "    </tr>\n",
       "    <tr>\n",
       "      <th>4</th>\n",
       "      <td>269094</td>\n",
       "    </tr>\n",
       "    <tr>\n",
       "      <th>5</th>\n",
       "      <td>331686</td>\n",
       "    </tr>\n",
       "    <tr>\n",
       "      <th>6</th>\n",
       "      <td>346342</td>\n",
       "    </tr>\n",
       "    <tr>\n",
       "      <th>7</th>\n",
       "      <td>344948</td>\n",
       "    </tr>\n",
       "    <tr>\n",
       "      <th>8</th>\n",
       "      <td>351194</td>\n",
       "    </tr>\n",
       "    <tr>\n",
       "      <th>9</th>\n",
       "      <td>345991</td>\n",
       "    </tr>\n",
       "    <tr>\n",
       "      <th>10</th>\n",
       "      <td>322352</td>\n",
       "    </tr>\n",
       "    <tr>\n",
       "      <th>11</th>\n",
       "      <td>254831</td>\n",
       "    </tr>\n",
       "    <tr>\n",
       "      <th>12</th>\n",
       "      <td>211036</td>\n",
       "    </tr>\n",
       "  </tbody>\n",
       "</table>\n",
       "</div>"
      ],
      "text/plain": [
       "         cnt\n",
       "mnth        \n",
       "1     134933\n",
       "2     151352\n",
       "3     228920\n",
       "4     269094\n",
       "5     331686\n",
       "6     346342\n",
       "7     344948\n",
       "8     351194\n",
       "9     345991\n",
       "10    322352\n",
       "11    254831\n",
       "12    211036"
      ]
     },
     "execution_count": 13,
     "metadata": {},
     "output_type": "execute_result"
    }
   ],
   "source": [
    "#menghitung jumlah rental sepeda setiap bulannya\n",
    "rent_month = day_df.groupby(by='mnth')[['cnt']].sum()\n",
    "rent_month"
   ]
  },
  {
   "cell_type": "markdown",
   "id": "321daa56-190c-4d29-afd4-70a60323cf63",
   "metadata": {},
   "source": [
    "jumlah rental paling besar terjadi pada rentang bulan mei sampai oktober, diperkirakan paling banyak rental terjadi pada musim gugur"
   ]
  },
  {
   "cell_type": "code",
   "execution_count": 14,
   "id": "d7886784-c349-466e-9bf0-1be2dae6328c",
   "metadata": {},
   "outputs": [
    {
     "data": {
      "text/html": [
       "<div>\n",
       "<style scoped>\n",
       "    .dataframe tbody tr th:only-of-type {\n",
       "        vertical-align: middle;\n",
       "    }\n",
       "\n",
       "    .dataframe tbody tr th {\n",
       "        vertical-align: top;\n",
       "    }\n",
       "\n",
       "    .dataframe thead th {\n",
       "        text-align: right;\n",
       "    }\n",
       "</style>\n",
       "<table border=\"1\" class=\"dataframe\">\n",
       "  <thead>\n",
       "    <tr style=\"text-align: right;\">\n",
       "      <th></th>\n",
       "      <th>cnt</th>\n",
       "    </tr>\n",
       "    <tr>\n",
       "      <th>season</th>\n",
       "      <th></th>\n",
       "    </tr>\n",
       "  </thead>\n",
       "  <tbody>\n",
       "    <tr>\n",
       "      <th>Fall</th>\n",
       "      <td>1061129</td>\n",
       "    </tr>\n",
       "    <tr>\n",
       "      <th>Springer</th>\n",
       "      <td>471348</td>\n",
       "    </tr>\n",
       "    <tr>\n",
       "      <th>Summer</th>\n",
       "      <td>918589</td>\n",
       "    </tr>\n",
       "    <tr>\n",
       "      <th>Winter</th>\n",
       "      <td>841613</td>\n",
       "    </tr>\n",
       "  </tbody>\n",
       "</table>\n",
       "</div>"
      ],
      "text/plain": [
       "              cnt\n",
       "season           \n",
       "Fall      1061129\n",
       "Springer   471348\n",
       "Summer     918589\n",
       "Winter     841613"
      ]
     },
     "execution_count": 14,
     "metadata": {},
     "output_type": "execute_result"
    }
   ],
   "source": [
    "#menghitung jumlah rental per musim\n",
    "day_season = day_df.copy()\n",
    "day_season.replace({1:'Springer',2:'Summer',3:'Fall',4:'Winter'},inplace=True)\n",
    "rent_season = day_season.groupby(by='season')[['cnt']].sum()\n",
    "rent_season"
   ]
  },
  {
   "cell_type": "markdown",
   "id": "32b1591f-40f9-4319-87e4-92d497f717b7",
   "metadata": {},
   "source": [
    "## 2. Bagaimana pengaruh rental sepeda terhadap cuaca?"
   ]
  },
  {
   "cell_type": "code",
   "execution_count": 15,
   "id": "9174c989-2d83-46fd-ab7a-951b68abccc2",
   "metadata": {},
   "outputs": [
    {
     "name": "stderr",
     "output_type": "stream",
     "text": [
      "C:\\Users\\asus\\AppData\\Local\\Temp\\ipykernel_8804\\1463540655.py:3: FutureWarning: A value is trying to be set on a copy of a DataFrame or Series through chained assignment using an inplace method.\n",
      "The behavior will change in pandas 3.0. This inplace method will never work because the intermediate object on which we are setting values always behaves as a copy.\n",
      "\n",
      "For example, when doing 'df[col].method(value, inplace=True)', try using 'df.method({col: value}, inplace=True)' or df[col] = df[col].method(value) instead, to perform the operation inplace on the original object.\n",
      "\n",
      "\n",
      "  day_weather['weathersit'].replace({1:'Good',2:'Mist with Cloudy',3:'Varied',4:'Bad'},inplace=True)\n"
     ]
    },
    {
     "data": {
      "text/html": [
       "<div>\n",
       "<style scoped>\n",
       "    .dataframe tbody tr th:only-of-type {\n",
       "        vertical-align: middle;\n",
       "    }\n",
       "\n",
       "    .dataframe tbody tr th {\n",
       "        vertical-align: top;\n",
       "    }\n",
       "\n",
       "    .dataframe thead th {\n",
       "        text-align: right;\n",
       "    }\n",
       "</style>\n",
       "<table border=\"1\" class=\"dataframe\">\n",
       "  <thead>\n",
       "    <tr style=\"text-align: right;\">\n",
       "      <th></th>\n",
       "      <th>cnt</th>\n",
       "    </tr>\n",
       "    <tr>\n",
       "      <th>weathersit</th>\n",
       "      <th></th>\n",
       "    </tr>\n",
       "  </thead>\n",
       "  <tbody>\n",
       "    <tr>\n",
       "      <th>Good</th>\n",
       "      <td>2257952</td>\n",
       "    </tr>\n",
       "    <tr>\n",
       "      <th>Mist with Cloudy</th>\n",
       "      <td>996858</td>\n",
       "    </tr>\n",
       "    <tr>\n",
       "      <th>Varied</th>\n",
       "      <td>37869</td>\n",
       "    </tr>\n",
       "  </tbody>\n",
       "</table>\n",
       "</div>"
      ],
      "text/plain": [
       "                      cnt\n",
       "weathersit               \n",
       "Good              2257952\n",
       "Mist with Cloudy   996858\n",
       "Varied              37869"
      ]
     },
     "execution_count": 15,
     "metadata": {},
     "output_type": "execute_result"
    }
   ],
   "source": [
    "#menghitung jumlah rental per kondisi cuaca\n",
    "day_weather = day_df.copy()\n",
    "day_weather['weathersit'].replace({1:'Good',2:'Mist with Cloudy',3:'Varied',4:'Bad'},inplace=True)\n",
    "day_weather.groupby(by='weathersit')[['cnt']].sum()"
   ]
  },
  {
   "cell_type": "markdown",
   "id": "577174f1-17e8-4592-ae0e-4d66954d75df",
   "metadata": {},
   "source": [
    "cuaca sangat mempengaruhi rental sepeda. cuaca yang baik memiliki jumlah rental yang lebih banyak dari cuaca manapun. kita juga dapat melihat cuaca yang baik berada pada musim apa"
   ]
  },
  {
   "cell_type": "code",
   "execution_count": 16,
   "id": "7e516daa-0d25-4313-826e-5fa9567555cc",
   "metadata": {},
   "outputs": [
    {
     "data": {
      "text/plain": [
       "season    weathersit      \n",
       "Fall      Good                136\n",
       "          Mist with Cloudy     48\n",
       "          Varied                4\n",
       "Springer  Good                111\n",
       "          Mist with Cloudy     66\n",
       "          Varied                4\n",
       "Summer    Good                113\n",
       "          Mist with Cloudy     68\n",
       "          Varied                3\n",
       "Winter    Good                103\n",
       "          Mist with Cloudy     65\n",
       "          Varied               10\n",
       "Name: count, dtype: int64"
      ]
     },
     "execution_count": 16,
     "metadata": {},
     "output_type": "execute_result"
    }
   ],
   "source": [
    "#melihat kondisi cuaca per musim\n",
    "day_weather.replace({1:'Springer',2:'Summer',3:'Fall',4:'Winter'},inplace=True)\n",
    "day_weather.groupby(by='season').weathersit.value_counts()"
   ]
  },
  {
   "cell_type": "markdown",
   "id": "2cbc093e-6fd1-493c-a06b-7de42ca725a8",
   "metadata": {},
   "source": [
    "musim gugur memiliki cuaca bagus yang lebih besar daripada musim lainnya. hal ini sejalan dengan jumlah rental sepeda paling banyak berada di musim gugur."
   ]
  },
  {
   "cell_type": "markdown",
   "id": "565eb31d-d7fc-4b49-8852-e265d3563efd",
   "metadata": {},
   "source": [
    "## 3.Berapa jumlah rental sepeda terhadap pengguna terdaftar dan kasual?"
   ]
  },
  {
   "cell_type": "code",
   "execution_count": 17,
   "id": "8eef88ff-de8f-45c5-915f-82b09d7661c8",
   "metadata": {},
   "outputs": [
    {
     "data": {
      "text/html": [
       "<div>\n",
       "<style scoped>\n",
       "    .dataframe tbody tr th:only-of-type {\n",
       "        vertical-align: middle;\n",
       "    }\n",
       "\n",
       "    .dataframe tbody tr th {\n",
       "        vertical-align: top;\n",
       "    }\n",
       "\n",
       "    .dataframe thead th {\n",
       "        text-align: right;\n",
       "    }\n",
       "</style>\n",
       "<table border=\"1\" class=\"dataframe\">\n",
       "  <thead>\n",
       "    <tr style=\"text-align: right;\">\n",
       "      <th></th>\n",
       "      <th>user</th>\n",
       "      <th>jumlah</th>\n",
       "    </tr>\n",
       "  </thead>\n",
       "  <tbody>\n",
       "    <tr>\n",
       "      <th>0</th>\n",
       "      <td>casual</td>\n",
       "      <td>620017</td>\n",
       "    </tr>\n",
       "    <tr>\n",
       "      <th>1</th>\n",
       "      <td>registered</td>\n",
       "      <td>2672662</td>\n",
       "    </tr>\n",
       "  </tbody>\n",
       "</table>\n",
       "</div>"
      ],
      "text/plain": [
       "         user   jumlah\n",
       "0      casual   620017\n",
       "1  registered  2672662"
      ]
     },
     "execution_count": 17,
     "metadata": {},
     "output_type": "execute_result"
    }
   ],
   "source": [
    "#buat proporsi antara pengguna casual dan pengguna terdaftar\n",
    "prop_casual = day_df['casual'].sum()\n",
    "prop_registered = day_df['registered'].sum()\n",
    "\n",
    "#tiap nilai dimasukkan ke dalam DataFrame\n",
    "prop = pd.DataFrame({'user':['casual','registered'],'jumlah':[prop_casual,prop_registered]})\n",
    "prop"
   ]
  },
  {
   "cell_type": "markdown",
   "id": "deea1ffa-67b9-46e0-8ebc-d5d5381452b9",
   "metadata": {},
   "source": [
    "pengguna yang terdaftar lebih banyak melakukan rental dibandingkan yang tidak mendaftar. Hal ini dapat kita gunakan sebagai strategi promosi untuk pengguna pendaftar dan tidak terdaftar."
   ]
  },
  {
   "cell_type": "markdown",
   "id": "a1bf9f67-0d5d-4990-9387-1fe7b78f8a9d",
   "metadata": {},
   "source": [
    "# Visualization & Explanatory Analysis"
   ]
  },
  {
   "cell_type": "markdown",
   "id": "ba56a68d-2f49-4052-8411-c05b1fed300a",
   "metadata": {},
   "source": [
    "## 1. Pada bulan apa rental sepeda terbanyak terjadi?"
   ]
  },
  {
   "cell_type": "markdown",
   "id": "1ef4f94f-18c8-4060-b67b-5caa8f786372",
   "metadata": {},
   "source": [
    "Kita akan menggunakan bar chart untuk mengetahui jumlah rental terbanyak pada tiap bulannya dan tiap musimnya. Chart ini akan mengambil nilai **mnth** dan **season** sebagai sumbu-x dan nilai **cnt** sebagai sumbu-y"
   ]
  },
  {
   "cell_type": "code",
   "execution_count": 18,
   "id": "86096743-0877-4662-b163-4c4c9b6f8e56",
   "metadata": {},
   "outputs": [
    {
     "name": "stderr",
     "output_type": "stream",
     "text": [
      "C:\\Users\\asus\\AppData\\Local\\Temp\\ipykernel_8804\\3927753116.py:5: FutureWarning: \n",
      "\n",
      "Passing `palette` without assigning `hue` is deprecated and will be removed in v0.14.0. Assign the `x` variable to `hue` and set `legend=False` for the same effect.\n",
      "\n",
      "  sns.barplot(x=\"mnth\", y=\"cnt\", data=rent_month, ax=ax[0],palette=[\"#D3D3D3\", \"#D3D3D3\", \"#D3D3D3\",\"#D3D3D3\", \"#D3D3D3\", \"#D3D3D3\", \"#D3D3D3\",\"#72BCD4\", \"#D3D3D3\", \"#D3D3D3\", \"#D3D3D3\", \"#D3D3D3\"])\n",
      "C:\\Users\\asus\\AppData\\Local\\Temp\\ipykernel_8804\\3927753116.py:12: FutureWarning: \n",
      "\n",
      "Passing `palette` without assigning `hue` is deprecated and will be removed in v0.14.0. Assign the `x` variable to `hue` and set `legend=False` for the same effect.\n",
      "\n",
      "  sns.barplot(x=\"season\", y=\"cnt\", data=rent_season.sort_values(by='cnt',ascending=False),ax=ax[1],palette=[\"#72BCD4\", \"#D3D3D3\", \"#D3D3D3\", \"#D3D3D3\"])\n"
     ]
    },
    {
     "data": {
      "image/png": "[encoded data removed]",
      "text/plain": [
       "<Figure size 2400x600 with 2 Axes>"
      ]
     },
     "metadata": {},
     "output_type": "display_data"
    }
   ],
   "source": [
    "#mengatur ukuran chart dan jumlah kolom chart\n",
    "fig, ax = plt.subplots(nrows=1, ncols=2, figsize=(24, 6))\n",
    "\n",
    "#membuat barchart perbulan di sebelah kiri\n",
    "sns.barplot(x=\"mnth\", y=\"cnt\", data=rent_month, ax=ax[0],palette=[\"#D3D3D3\", \"#D3D3D3\", \"#D3D3D3\",\"#D3D3D3\", \"#D3D3D3\", \"#D3D3D3\", \"#D3D3D3\",\"#72BCD4\", \"#D3D3D3\", \"#D3D3D3\", \"#D3D3D3\", \"#D3D3D3\"])\n",
    "ax[0].set_ylabel(None)\n",
    "ax[0].set_xlabel(None)\n",
    "ax[0].set_title(\"Jumlah Rental tiap Bulan\", fontsize=15)\n",
    "ax[0].tick_params(axis ='y', labelsize=12)\n",
    "\n",
    "#membuat barchart permusim di sebelah kanan\n",
    "sns.barplot(x=\"season\", y=\"cnt\", data=rent_season.sort_values(by='cnt',ascending=False),ax=ax[1],palette=[\"#72BCD4\", \"#D3D3D3\", \"#D3D3D3\", \"#D3D3D3\"])\n",
    "ax[1].set_ylabel(None)\n",
    "ax[1].set_xlabel(None)\n",
    "ax[1].invert_xaxis()\n",
    "ax[1].yaxis.set_label_position(\"right\")\n",
    "ax[1].yaxis.tick_right()\n",
    "ax[1].set_title(\"Jumlah Rental tiap Musim\", loc=\"center\", fontsize=15)\n",
    "ax[1].tick_params(axis='y', labelsize=12)\n",
    " \n",
    "plt.suptitle(\"Jumlah Rental terhadap Periode Waktu Tertentu\", fontsize=20)\n",
    "plt.show()"
   ]
  },
  {
   "cell_type": "markdown",
   "id": "e43cd8b9-eeb2-4bf9-80f4-ae48727de1f8",
   "metadata": {},
   "source": [
    "seperti yang terlihat, rental sepeda terbanyak terjadi pada rentang bulan mei hingga oktober dan puncaknya ada di bulan Agustus. Rentang bulan tersebut berada pda musim gugur"
   ]
  },
  {
   "cell_type": "markdown",
   "id": "928badb5-f1c4-4509-9b6e-b6835c0f552b",
   "metadata": {},
   "source": [
    "## 2. Bagaimana pengaruh rental sepeda terhadap cuaca?"
   ]
  },
  {
   "cell_type": "markdown",
   "id": "7a8e5f1f-1c1b-4176-8a34-0df724cb2c12",
   "metadata": {},
   "source": [
    "Kita juga akan menggunakan barchart untuk melihat jumlah rental terbanyak yang didapat pada kondisi cuaca tertentu."
   ]
  },
  {
   "cell_type": "code",
   "execution_count": 19,
   "id": "8e8381e1-b2d1-4f75-b282-224901ab9251",
   "metadata": {},
   "outputs": [
    {
     "name": "stderr",
     "output_type": "stream",
     "text": [
      "C:\\Users\\asus\\AppData\\Local\\Temp\\ipykernel_8804\\3658959544.py:5: FutureWarning: \n",
      "\n",
      "Passing `palette` without assigning `hue` is deprecated and will be removed in v0.14.0. Assign the `x` variable to `hue` and set `legend=False` for the same effect.\n",
      "\n",
      "  sns.barplot(x=\"weathersit\", y=\"cnt\", data=day_weather,palette=[\"#D3D3D3\", \"#72BCD4\", \"#D3D3D3\"],errorbar=None)\n"
     ]
    },
    {
     "data": {
      "image/png": "[encoded data removed]",
      "text/plain": [
       "<Figure size 640x480 with 1 Axes>"
      ]
     },
     "metadata": {},
     "output_type": "display_data"
    }
   ],
   "source": [
    "#mengatur ukuran chart\n",
    "figsize = (15,10)\n",
    "\n",
    "#membuat barchart jumlah rental terhadap kondisi cuaca\n",
    "sns.barplot(x=\"weathersit\", y=\"cnt\", data=day_weather,palette=[\"#D3D3D3\", \"#72BCD4\", \"#D3D3D3\"],errorbar=None)\n",
    "plt.ylabel(None)\n",
    "plt.xlabel(None)\n",
    "plt.title(\"Jumlah Rental Sepeda terhadap Kondisi Cuaca\", fontsize=15)\n",
    "\n",
    "plt.show()"
   ]
  },
  {
   "cell_type": "markdown",
   "id": "dfcc5554-2954-4f64-a35a-731037f84fb1",
   "metadata": {},
   "source": [
    "Cuaca sangat mempengaruhi jumlah sepeda yang dirental. terlihat bahwa cuaca yang baik (tanpa hujan atau badai) membuat pengguna lebih banyak memilih rental sepeda."
   ]
  },
  {
   "cell_type": "markdown",
   "id": "7710724f-2eb9-49d8-ada3-3b683c30887a",
   "metadata": {},
   "source": [
    "## 3.Berapa jumlah rental sepeda terhadap pengguna terdaftar dan kasual?"
   ]
  },
  {
   "cell_type": "code",
   "execution_count": 20,
   "id": "03fe9688-928c-4eae-90a6-17217c9a90a1",
   "metadata": {},
   "outputs": [
    {
     "data": {
      "image/png": "[encoded data removed]",
      "text/plain": [
       "<Figure size 640x480 with 1 Axes>"
      ]
     },
     "metadata": {},
     "output_type": "display_data"
    }
   ],
   "source": [
    "# membuat pie chart terhadap proporsi pengguna casual dan terdaftar\n",
    "plt.pie(data=prop,x='jumlah',labels='user',autopct='%.0f%%')\n",
    "plt.title('Persentasi Pengguna Causal dan Pengguna Terdaftar')\n",
    "\n",
    "# menampilkan chart\n",
    "plt.show()"
   ]
  },
  {
   "cell_type": "markdown",
   "id": "f521dd75-9352-4c79-a391-c5d80fe7b2eb",
   "metadata": {},
   "source": [
    "Berdasarkan chart di atas terlihat bahwa pengguna jumlah rental lebih banyak dilakukan oleh pengguna terdaftar sebanyak 81% dibandingkan dengan pengguna casual yang hanya 19%"
   ]
  },
  {
   "cell_type": "markdown",
   "id": "5c3a5616-f16f-4239-baed-dac0a1a71e45",
   "metadata": {},
   "source": [
    "# Conclusion"
   ]
  },
  {
   "cell_type": "markdown",
   "id": "c5c99fc5-8422-468a-bc7d-fc159e8790b6",
   "metadata": {},
   "source": [
    "- Conclution pertanyaan 12"
   ]
  },
  {
   "cell_type": "markdown",
   "id": "fe8949de-a241-4017-be57-c5ea6ca0e822",
   "metadata": {},
   "source": [
    "Pengguna cenderung rental sepeda pada musim gugur. Hal ini dikarenakan cuaca yang  tidak tidak terlalu dingin. Pihak pengembang Bike Rental System dapat memanfaatkan kondisi ini dengan memberikan pelayanan optimal di musim gugur serta memberikan berbagai promo menarik untuk menarik lebih banyak pengguna."
   ]
  },
  {
   "cell_type": "markdown",
   "id": "89645450-cef5-46ef-b5ef-e06fb2b63351",
   "metadata": {},
   "source": [
    "- Conclution pertanyaan 2"
   ]
  },
  {
   "cell_type": "markdown",
   "id": "109dadd8-5ac0-4890-960a-1b7dcd308ab5",
   "metadata": {},
   "source": [
    "Kondisi cuaca sangat memengaruhi pengguna untuk rental sepeda. Rental terbanyak terjadi di cuaca baik dan tidak yang rental sepeda sama sekali pada kondisi badai. Pihak pengembang perlu memperhatikan kondisi cuaca sebelum melakukan promosi atau campaign besar-besaran. Akan lebih baik bila sistem aplikasi rental disediakan fitur prediksi cuaca agar dapat lebih meyakinkan pengguna melakukan rental."
   ]
  },
  {
   "cell_type": "markdown",
   "id": "c8a2d29a-1bd7-4a92-afd2-c9ea9a33c7b2",
   "metadata": {},
   "source": [
    "- Conclution pertanyaan 3"
   ]
  }
 ],
 "metadata": {
  "kernelspec": {
   "display_name": "Python 3 (ipykernel)",
   "language": "python",
   "name": "python3"
  },
  "language_info": {
   "codemirror_mode": {
    "name": "ipython",
    "version": 3
   },
   "file_extension": ".py",
   "mimetype": "text/x-python",
   "name": "python",
   "nbconvert_exporter": "python",
   "pygments_lexer": "ipython3",
   "version": "3.12.2"
  }
 },
 "nbformat": 4,
 "nbformat_minor": 5
}
