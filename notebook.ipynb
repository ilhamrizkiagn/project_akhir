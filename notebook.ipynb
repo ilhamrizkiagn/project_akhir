{
 "cells": [
  {
   "cell_type": "markdown",
   "id": "9d2683fe-d99e-4f2e-8574-33e70a1b99b8",
   "metadata": {},
   "source": [
    "# Proyek Analisis Data: Bike Sharing Dataset\n",
    "\n",
    "- Nama: Ilham Rizkia N\n",
    "- Email: ilhamrizkia@student.uns.ac.id\n",
    "- ID Dicoding: ilhamrizkiagn"
   ]
  },
  {
   "cell_type": "markdown",
   "id": "2b134b41-3324-454d-8b12-9897e7d4b4b0",
   "metadata": {},
   "source": [
    "# Latar Belakang\n",
    "\n",
    "Bike sharing system adalah versi terbaru dari rental sepeda konvensional yang mana proses dari pendaftaran member, rental hingga pengembalian semuanya\n",
    "dilakukan secara otomatis. Melalui sistem ini, pengguna dapat merental dan mengembalikan sepeda dimana saja dengan mudah. Sistem ini sangat bagus\n",
    "dan memiliki berbagai manfaat baik dari segi kemacetan lalu lintas, berkurangnya polusi serta menjaga kesehatan tubuh."
   ]
  },
  {
   "cell_type": "markdown",
   "id": "36cbbd20-a2b4-4298-8174-ab23de84dbaa",
   "metadata": {},
   "source": [
    "# Pertanyaan Bisnis\n",
    "\n",
    "- Pada bulan apa rental sepeda terbanyak terjadi?\n",
    "- Bagaimana performa jumlah rental setiap harinya?"
   ]
  },
  {
   "cell_type": "markdown",
   "id": "0e926077-bada-4e93-a4fe-e2558e007ea1",
   "metadata": {},
   "source": [
    "# Import Semua Packages/Library yang Digunakan"
   ]
  },
  {
   "cell_type": "code",
   "execution_count": 2,
   "id": "ac4d74df-07bd-44d0-b1cd-9c91acee9753",
   "metadata": {},
   "outputs": [],
   "source": [
    "import numpy as np\n",
    "import pandas as pd\n",
    "import matplotlib.pyplot as plt\n",
    "import seaborn as sns"
   ]
  },
  {
   "cell_type": "markdown",
   "id": "4235a9f5-be36-40f6-a1b1-4125754f13ba",
   "metadata": {},
   "source": [
    "# Data Wrangling"
   ]
  },
  {
   "cell_type": "markdown",
   "id": "7b94e8ca-2d04-4dc8-bed3-f7a961891fd6",
   "metadata": {},
   "source": [
    "## Gathering Data"
   ]
  },
  {
   "cell_type": "markdown",
   "id": "3c64e5cb-2bfc-464f-bdda-02c55e023bb9",
   "metadata": {},
   "source": [
    "Proyek ini akan menggunakan satu tabel data. Data tersebut berisi jumlah rental sepeda selama tahun 2011 dan 2012. data tersebut akan registeredyang akan dimuat pada kode berikut"
   ]
  },
  {
   "cell_type": "markdown",
   "id": "54ec8d27-15b2-4567-a3ea-d020339adc42",
   "metadata": {},
   "source": [
    "#### Memuat data jumlah rental perjam"
   ]
  },
  {
   "cell_type": "code",
   "execution_count": 3,
   "id": "8ae86b36-6c4c-4b8a-895d-75840915fef8",
   "metadata": {
    "scrolled": true
   },
   "outputs": [
    {
     "data": {
      "text/html": [
       "<div>\n",
       "<style scoped>\n",
       "    .dataframe tbody tr th:only-of-type {\n",
       "        vertical-align: middle;\n",
       "    }\n",
       "\n",
       "    .dataframe tbody tr th {\n",
       "        vertical-align: top;\n",
       "    }\n",
       "\n",
       "    .dataframe thead th {\n",
       "        text-align: right;\n",
       "    }\n",
       "</style>\n",
       "<table border=\"1\" class=\"dataframe\">\n",
       "  <thead>\n",
       "    <tr style=\"text-align: right;\">\n",
       "      <th></th>\n",
       "      <th>instant</th>\n",
       "      <th>dteday</th>\n",
       "      <th>season</th>\n",
       "      <th>yr</th>\n",
       "      <th>mnth</th>\n",
       "      <th>hr</th>\n",
       "      <th>holiday</th>\n",
       "      <th>weekday</th>\n",
       "      <th>workingday</th>\n",
       "      <th>weathersit</th>\n",
       "      <th>temp</th>\n",
       "      <th>atemp</th>\n",
       "      <th>hum</th>\n",
       "      <th>windspeed</th>\n",
       "      <th>casual</th>\n",
       "      <th>registered</th>\n",
       "      <th>cnt</th>\n",
       "    </tr>\n",
       "  </thead>\n",
       "  <tbody>\n",
       "    <tr>\n",
       "      <th>0</th>\n",
       "      <td>1</td>\n",
       "      <td>2011-01-01</td>\n",
       "      <td>1</td>\n",
       "      <td>0</td>\n",
       "      <td>1</td>\n",
       "      <td>0</td>\n",
       "      <td>0</td>\n",
       "      <td>6</td>\n",
       "      <td>0</td>\n",
       "      <td>1</td>\n",
       "      <td>0.24</td>\n",
       "      <td>0.2879</td>\n",
       "      <td>0.81</td>\n",
       "      <td>0.0</td>\n",
       "      <td>3</td>\n",
       "      <td>13</td>\n",
       "      <td>16</td>\n",
       "    </tr>\n",
       "    <tr>\n",
       "      <th>1</th>\n",
       "      <td>2</td>\n",
       "      <td>2011-01-01</td>\n",
       "      <td>1</td>\n",
       "      <td>0</td>\n",
       "      <td>1</td>\n",
       "      <td>1</td>\n",
       "      <td>0</td>\n",
       "      <td>6</td>\n",
       "      <td>0</td>\n",
       "      <td>1</td>\n",
       "      <td>0.22</td>\n",
       "      <td>0.2727</td>\n",
       "      <td>0.80</td>\n",
       "      <td>0.0</td>\n",
       "      <td>8</td>\n",
       "      <td>32</td>\n",
       "      <td>40</td>\n",
       "    </tr>\n",
       "    <tr>\n",
       "      <th>2</th>\n",
       "      <td>3</td>\n",
       "      <td>2011-01-01</td>\n",
       "      <td>1</td>\n",
       "      <td>0</td>\n",
       "      <td>1</td>\n",
       "      <td>2</td>\n",
       "      <td>0</td>\n",
       "      <td>6</td>\n",
       "      <td>0</td>\n",
       "      <td>1</td>\n",
       "      <td>0.22</td>\n",
       "      <td>0.2727</td>\n",
       "      <td>0.80</td>\n",
       "      <td>0.0</td>\n",
       "      <td>5</td>\n",
       "      <td>27</td>\n",
       "      <td>32</td>\n",
       "    </tr>\n",
       "    <tr>\n",
       "      <th>3</th>\n",
       "      <td>4</td>\n",
       "      <td>2011-01-01</td>\n",
       "      <td>1</td>\n",
       "      <td>0</td>\n",
       "      <td>1</td>\n",
       "      <td>3</td>\n",
       "      <td>0</td>\n",
       "      <td>6</td>\n",
       "      <td>0</td>\n",
       "      <td>1</td>\n",
       "      <td>0.24</td>\n",
       "      <td>0.2879</td>\n",
       "      <td>0.75</td>\n",
       "      <td>0.0</td>\n",
       "      <td>3</td>\n",
       "      <td>10</td>\n",
       "      <td>13</td>\n",
       "    </tr>\n",
       "    <tr>\n",
       "      <th>4</th>\n",
       "      <td>5</td>\n",
       "      <td>2011-01-01</td>\n",
       "      <td>1</td>\n",
       "      <td>0</td>\n",
       "      <td>1</td>\n",
       "      <td>4</td>\n",
       "      <td>0</td>\n",
       "      <td>6</td>\n",
       "      <td>0</td>\n",
       "      <td>1</td>\n",
       "      <td>0.24</td>\n",
       "      <td>0.2879</td>\n",
       "      <td>0.75</td>\n",
       "      <td>0.0</td>\n",
       "      <td>0</td>\n",
       "      <td>1</td>\n",
       "      <td>1</td>\n",
       "    </tr>\n",
       "  </tbody>\n",
       "</table>\n",
       "</div>"
      ],
      "text/plain": [
       "   instant      dteday  season  yr  mnth  hr  holiday  weekday  workingday  \\\n",
       "0        1  2011-01-01       1   0     1   0        0        6           0   \n",
       "1        2  2011-01-01       1   0     1   1        0        6           0   \n",
       "2        3  2011-01-01       1   0     1   2        0        6           0   \n",
       "3        4  2011-01-01       1   0     1   3        0        6           0   \n",
       "4        5  2011-01-01       1   0     1   4        0        6           0   \n",
       "\n",
       "   weathersit  temp   atemp   hum  windspeed  casual  registered  cnt  \n",
       "0           1  0.24  0.2879  0.81        0.0       3          13   16  \n",
       "1           1  0.22  0.2727  0.80        0.0       8          32   40  \n",
       "2           1  0.22  0.2727  0.80        0.0       5          27   32  \n",
       "3           1  0.24  0.2879  0.75        0.0       3          10   13  \n",
       "4           1  0.24  0.2879  0.75        0.0       0           1    1  "
      ]
     },
     "execution_count": 3,
     "metadata": {},
     "output_type": "execute_result"
    }
   ],
   "source": [
    "hour_df = pd.read_csv('dashboard/hour.csv')\n",
    "hour_df.head()"
   ]
  },
  {
   "cell_type": "markdown",
   "id": "1dbcd36a-dad9-425b-a06b-74c088653ffd",
   "metadata": {},
   "source": [
    "## Assessing Data"
   ]
  },
  {
   "cell_type": "markdown",
   "id": "aa9e8bab-61ef-4068-8eaf-fd8183a2c7bf",
   "metadata": {},
   "source": [
    "#### Menilai Data hour_df"
   ]
  },
  {
   "cell_type": "code",
   "execution_count": 4,
   "id": "7652649e-3414-421c-b52d-3e55dceaba3f",
   "metadata": {},
   "outputs": [
    {
     "name": "stdout",
     "output_type": "stream",
     "text": [
      "<class 'pandas.core.frame.DataFrame'>\n",
      "RangeIndex: 17379 entries, 0 to 17378\n",
      "Data columns (total 17 columns):\n",
      " #   Column      Non-Null Count  Dtype  \n",
      "---  ------      --------------  -----  \n",
      " 0   instant     17379 non-null  int64  \n",
      " 1   dteday      17379 non-null  object \n",
      " 2   season      17379 non-null  int64  \n",
      " 3   yr          17379 non-null  int64  \n",
      " 4   mnth        17379 non-null  int64  \n",
      " 5   hr          17379 non-null  int64  \n",
      " 6   holiday     17379 non-null  int64  \n",
      " 7   weekday     17379 non-null  int64  \n",
      " 8   workingday  17379 non-null  int64  \n",
      " 9   weathersit  17379 non-null  int64  \n",
      " 10  temp        17379 non-null  float64\n",
      " 11  atemp       17379 non-null  float64\n",
      " 12  hum         17379 non-null  float64\n",
      " 13  windspeed   17379 non-null  float64\n",
      " 14  casual      17379 non-null  int64  \n",
      " 15  registered  17379 non-null  int64  \n",
      " 16  cnt         17379 non-null  int64  \n",
      "dtypes: float64(4), int64(12), object(1)\n",
      "memory usage: 2.3+ MB\n"
     ]
    }
   ],
   "source": [
    "hour_df.info() #untuk mencari missing value dan tipe data"
   ]
  },
  {
   "cell_type": "code",
   "execution_count": 5,
   "id": "7a4977a9-85a7-4fa2-90d4-12a6ae353cbd",
   "metadata": {},
   "outputs": [
    {
     "data": {
      "text/plain": [
       "np.int64(0)"
      ]
     },
     "execution_count": 5,
     "metadata": {},
     "output_type": "execute_result"
    }
   ],
   "source": [
    "hour_df.duplicated().sum() #untuk mencari jumlah duplikat"
   ]
  },
  {
   "cell_type": "code",
   "execution_count": 6,
   "id": "6c050470-b189-4f71-a7d6-776217bf676a",
   "metadata": {},
   "outputs": [
    {
     "data": {
      "text/html": [
       "<div>\n",
       "<style scoped>\n",
       "    .dataframe tbody tr th:only-of-type {\n",
       "        vertical-align: middle;\n",
       "    }\n",
       "\n",
       "    .dataframe tbody tr th {\n",
       "        vertical-align: top;\n",
       "    }\n",
       "\n",
       "    .dataframe thead th {\n",
       "        text-align: right;\n",
       "    }\n",
       "</style>\n",
       "<table border=\"1\" class=\"dataframe\">\n",
       "  <thead>\n",
       "    <tr style=\"text-align: right;\">\n",
       "      <th></th>\n",
       "      <th>instant</th>\n",
       "      <th>dteday</th>\n",
       "      <th>season</th>\n",
       "      <th>yr</th>\n",
       "      <th>mnth</th>\n",
       "      <th>hr</th>\n",
       "      <th>holiday</th>\n",
       "      <th>weekday</th>\n",
       "      <th>workingday</th>\n",
       "      <th>weathersit</th>\n",
       "      <th>temp</th>\n",
       "      <th>atemp</th>\n",
       "      <th>hum</th>\n",
       "      <th>windspeed</th>\n",
       "      <th>casual</th>\n",
       "      <th>registered</th>\n",
       "      <th>cnt</th>\n",
       "    </tr>\n",
       "  </thead>\n",
       "  <tbody>\n",
       "    <tr>\n",
       "      <th>count</th>\n",
       "      <td>17379.0000</td>\n",
       "      <td>17379</td>\n",
       "      <td>17379.000000</td>\n",
       "      <td>17379.000000</td>\n",
       "      <td>17379.000000</td>\n",
       "      <td>17379.000000</td>\n",
       "      <td>17379.000000</td>\n",
       "      <td>17379.000000</td>\n",
       "      <td>17379.000000</td>\n",
       "      <td>17379.000000</td>\n",
       "      <td>17379.000000</td>\n",
       "      <td>17379.000000</td>\n",
       "      <td>17379.000000</td>\n",
       "      <td>17379.000000</td>\n",
       "      <td>17379.000000</td>\n",
       "      <td>17379.000000</td>\n",
       "      <td>17379.000000</td>\n",
       "    </tr>\n",
       "    <tr>\n",
       "      <th>unique</th>\n",
       "      <td>NaN</td>\n",
       "      <td>731</td>\n",
       "      <td>NaN</td>\n",
       "      <td>NaN</td>\n",
       "      <td>NaN</td>\n",
       "      <td>NaN</td>\n",
       "      <td>NaN</td>\n",
       "      <td>NaN</td>\n",
       "      <td>NaN</td>\n",
       "      <td>NaN</td>\n",
       "      <td>NaN</td>\n",
       "      <td>NaN</td>\n",
       "      <td>NaN</td>\n",
       "      <td>NaN</td>\n",
       "      <td>NaN</td>\n",
       "      <td>NaN</td>\n",
       "      <td>NaN</td>\n",
       "    </tr>\n",
       "    <tr>\n",
       "      <th>top</th>\n",
       "      <td>NaN</td>\n",
       "      <td>2012-12-31</td>\n",
       "      <td>NaN</td>\n",
       "      <td>NaN</td>\n",
       "      <td>NaN</td>\n",
       "      <td>NaN</td>\n",
       "      <td>NaN</td>\n",
       "      <td>NaN</td>\n",
       "      <td>NaN</td>\n",
       "      <td>NaN</td>\n",
       "      <td>NaN</td>\n",
       "      <td>NaN</td>\n",
       "      <td>NaN</td>\n",
       "      <td>NaN</td>\n",
       "      <td>NaN</td>\n",
       "      <td>NaN</td>\n",
       "      <td>NaN</td>\n",
       "    </tr>\n",
       "    <tr>\n",
       "      <th>freq</th>\n",
       "      <td>NaN</td>\n",
       "      <td>24</td>\n",
       "      <td>NaN</td>\n",
       "      <td>NaN</td>\n",
       "      <td>NaN</td>\n",
       "      <td>NaN</td>\n",
       "      <td>NaN</td>\n",
       "      <td>NaN</td>\n",
       "      <td>NaN</td>\n",
       "      <td>NaN</td>\n",
       "      <td>NaN</td>\n",
       "      <td>NaN</td>\n",
       "      <td>NaN</td>\n",
       "      <td>NaN</td>\n",
       "      <td>NaN</td>\n",
       "      <td>NaN</td>\n",
       "      <td>NaN</td>\n",
       "    </tr>\n",
       "    <tr>\n",
       "      <th>mean</th>\n",
       "      <td>8690.0000</td>\n",
       "      <td>NaN</td>\n",
       "      <td>2.501640</td>\n",
       "      <td>0.502561</td>\n",
       "      <td>6.537775</td>\n",
       "      <td>11.546752</td>\n",
       "      <td>0.028770</td>\n",
       "      <td>3.003683</td>\n",
       "      <td>0.682721</td>\n",
       "      <td>1.425283</td>\n",
       "      <td>0.496987</td>\n",
       "      <td>0.475775</td>\n",
       "      <td>0.627229</td>\n",
       "      <td>0.190098</td>\n",
       "      <td>35.676218</td>\n",
       "      <td>153.786869</td>\n",
       "      <td>189.463088</td>\n",
       "    </tr>\n",
       "    <tr>\n",
       "      <th>std</th>\n",
       "      <td>5017.0295</td>\n",
       "      <td>NaN</td>\n",
       "      <td>1.106918</td>\n",
       "      <td>0.500008</td>\n",
       "      <td>3.438776</td>\n",
       "      <td>6.914405</td>\n",
       "      <td>0.167165</td>\n",
       "      <td>2.005771</td>\n",
       "      <td>0.465431</td>\n",
       "      <td>0.639357</td>\n",
       "      <td>0.192556</td>\n",
       "      <td>0.171850</td>\n",
       "      <td>0.192930</td>\n",
       "      <td>0.122340</td>\n",
       "      <td>49.305030</td>\n",
       "      <td>151.357286</td>\n",
       "      <td>181.387599</td>\n",
       "    </tr>\n",
       "    <tr>\n",
       "      <th>min</th>\n",
       "      <td>1.0000</td>\n",
       "      <td>NaN</td>\n",
       "      <td>1.000000</td>\n",
       "      <td>0.000000</td>\n",
       "      <td>1.000000</td>\n",
       "      <td>0.000000</td>\n",
       "      <td>0.000000</td>\n",
       "      <td>0.000000</td>\n",
       "      <td>0.000000</td>\n",
       "      <td>1.000000</td>\n",
       "      <td>0.020000</td>\n",
       "      <td>0.000000</td>\n",
       "      <td>0.000000</td>\n",
       "      <td>0.000000</td>\n",
       "      <td>0.000000</td>\n",
       "      <td>0.000000</td>\n",
       "      <td>1.000000</td>\n",
       "    </tr>\n",
       "    <tr>\n",
       "      <th>25%</th>\n",
       "      <td>4345.5000</td>\n",
       "      <td>NaN</td>\n",
       "      <td>2.000000</td>\n",
       "      <td>0.000000</td>\n",
       "      <td>4.000000</td>\n",
       "      <td>6.000000</td>\n",
       "      <td>0.000000</td>\n",
       "      <td>1.000000</td>\n",
       "      <td>0.000000</td>\n",
       "      <td>1.000000</td>\n",
       "      <td>0.340000</td>\n",
       "      <td>0.333300</td>\n",
       "      <td>0.480000</td>\n",
       "      <td>0.104500</td>\n",
       "      <td>4.000000</td>\n",
       "      <td>34.000000</td>\n",
       "      <td>40.000000</td>\n",
       "    </tr>\n",
       "    <tr>\n",
       "      <th>50%</th>\n",
       "      <td>8690.0000</td>\n",
       "      <td>NaN</td>\n",
       "      <td>3.000000</td>\n",
       "      <td>1.000000</td>\n",
       "      <td>7.000000</td>\n",
       "      <td>12.000000</td>\n",
       "      <td>0.000000</td>\n",
       "      <td>3.000000</td>\n",
       "      <td>1.000000</td>\n",
       "      <td>1.000000</td>\n",
       "      <td>0.500000</td>\n",
       "      <td>0.484800</td>\n",
       "      <td>0.630000</td>\n",
       "      <td>0.194000</td>\n",
       "      <td>17.000000</td>\n",
       "      <td>115.000000</td>\n",
       "      <td>142.000000</td>\n",
       "    </tr>\n",
       "    <tr>\n",
       "      <th>75%</th>\n",
       "      <td>13034.5000</td>\n",
       "      <td>NaN</td>\n",
       "      <td>3.000000</td>\n",
       "      <td>1.000000</td>\n",
       "      <td>10.000000</td>\n",
       "      <td>18.000000</td>\n",
       "      <td>0.000000</td>\n",
       "      <td>5.000000</td>\n",
       "      <td>1.000000</td>\n",
       "      <td>2.000000</td>\n",
       "      <td>0.660000</td>\n",
       "      <td>0.621200</td>\n",
       "      <td>0.780000</td>\n",
       "      <td>0.253700</td>\n",
       "      <td>48.000000</td>\n",
       "      <td>220.000000</td>\n",
       "      <td>281.000000</td>\n",
       "    </tr>\n",
       "    <tr>\n",
       "      <th>max</th>\n",
       "      <td>17379.0000</td>\n",
       "      <td>NaN</td>\n",
       "      <td>4.000000</td>\n",
       "      <td>1.000000</td>\n",
       "      <td>12.000000</td>\n",
       "      <td>23.000000</td>\n",
       "      <td>1.000000</td>\n",
       "      <td>6.000000</td>\n",
       "      <td>1.000000</td>\n",
       "      <td>4.000000</td>\n",
       "      <td>1.000000</td>\n",
       "      <td>1.000000</td>\n",
       "      <td>1.000000</td>\n",
       "      <td>0.850700</td>\n",
       "      <td>367.000000</td>\n",
       "      <td>886.000000</td>\n",
       "      <td>977.000000</td>\n",
       "    </tr>\n",
       "  </tbody>\n",
       "</table>\n",
       "</div>"
      ],
      "text/plain": [
       "           instant      dteday        season            yr          mnth  \\\n",
       "count   17379.0000       17379  17379.000000  17379.000000  17379.000000   \n",
       "unique         NaN         731           NaN           NaN           NaN   \n",
       "top            NaN  2012-12-31           NaN           NaN           NaN   \n",
       "freq           NaN          24           NaN           NaN           NaN   \n",
       "mean     8690.0000         NaN      2.501640      0.502561      6.537775   \n",
       "std      5017.0295         NaN      1.106918      0.500008      3.438776   \n",
       "min         1.0000         NaN      1.000000      0.000000      1.000000   \n",
       "25%      4345.5000         NaN      2.000000      0.000000      4.000000   \n",
       "50%      8690.0000         NaN      3.000000      1.000000      7.000000   \n",
       "75%     13034.5000         NaN      3.000000      1.000000     10.000000   \n",
       "max     17379.0000         NaN      4.000000      1.000000     12.000000   \n",
       "\n",
       "                  hr       holiday       weekday    workingday    weathersit  \\\n",
       "count   17379.000000  17379.000000  17379.000000  17379.000000  17379.000000   \n",
       "unique           NaN           NaN           NaN           NaN           NaN   \n",
       "top              NaN           NaN           NaN           NaN           NaN   \n",
       "freq             NaN           NaN           NaN           NaN           NaN   \n",
       "mean       11.546752      0.028770      3.003683      0.682721      1.425283   \n",
       "std         6.914405      0.167165      2.005771      0.465431      0.639357   \n",
       "min         0.000000      0.000000      0.000000      0.000000      1.000000   \n",
       "25%         6.000000      0.000000      1.000000      0.000000      1.000000   \n",
       "50%        12.000000      0.000000      3.000000      1.000000      1.000000   \n",
       "75%        18.000000      0.000000      5.000000      1.000000      2.000000   \n",
       "max        23.000000      1.000000      6.000000      1.000000      4.000000   \n",
       "\n",
       "                temp         atemp           hum     windspeed        casual  \\\n",
       "count   17379.000000  17379.000000  17379.000000  17379.000000  17379.000000   \n",
       "unique           NaN           NaN           NaN           NaN           NaN   \n",
       "top              NaN           NaN           NaN           NaN           NaN   \n",
       "freq             NaN           NaN           NaN           NaN           NaN   \n",
       "mean        0.496987      0.475775      0.627229      0.190098     35.676218   \n",
       "std         0.192556      0.171850      0.192930      0.122340     49.305030   \n",
       "min         0.020000      0.000000      0.000000      0.000000      0.000000   \n",
       "25%         0.340000      0.333300      0.480000      0.104500      4.000000   \n",
       "50%         0.500000      0.484800      0.630000      0.194000     17.000000   \n",
       "75%         0.660000      0.621200      0.780000      0.253700     48.000000   \n",
       "max         1.000000      1.000000      1.000000      0.850700    367.000000   \n",
       "\n",
       "          registered           cnt  \n",
       "count   17379.000000  17379.000000  \n",
       "unique           NaN           NaN  \n",
       "top              NaN           NaN  \n",
       "freq             NaN           NaN  \n",
       "mean      153.786869    189.463088  \n",
       "std       151.357286    181.387599  \n",
       "min         0.000000      1.000000  \n",
       "25%        34.000000     40.000000  \n",
       "50%       115.000000    142.000000  \n",
       "75%       220.000000    281.000000  \n",
       "max       886.000000    977.000000  "
      ]
     },
     "execution_count": 6,
     "metadata": {},
     "output_type": "execute_result"
    }
   ],
   "source": [
    "hour_df.describe(include='all') #untuk mencari karakteristik khusus dari suatu atribut atau kolom"
   ]
  },
  {
   "cell_type": "markdown",
   "id": "35e68f06-6b8a-425b-b011-9ffc6a120e44",
   "metadata": {},
   "source": [
    "tipe data kolom dteday masih object. akan diubah menjadi tipe data datetime. terkait duplikasi dan lainnya, tabel hour_df tidak ada masalah"
   ]
  },
  {
   "cell_type": "markdown",
   "id": "ce55895b-2a4c-4d30-8f0a-1a69daec8d79",
   "metadata": {},
   "source": [
    "# Cleaning Data"
   ]
  },
  {
   "cell_type": "markdown",
   "id": "b0bb68cf-bdc8-4c1a-ae7a-23e355896257",
   "metadata": {},
   "source": [
    "kolom dteday pada tabel hour_df dan day_df akan diubah pada kode berikut ini"
   ]
  },
  {
   "cell_type": "code",
   "execution_count": 7,
   "id": "f8607f63-5e25-480f-b096-8cfc6db6ff66",
   "metadata": {},
   "outputs": [],
   "source": [
    "#mengubah tipe data object menjadi string\n",
    "hour_df['dteday'] = pd.to_datetime(hour_df['dteday'])"
   ]
  },
  {
   "cell_type": "code",
   "execution_count": 8,
   "id": "86c01c7c-3fa7-4b5f-baa8-9da41fe0204e",
   "metadata": {},
   "outputs": [
    {
     "name": "stdout",
     "output_type": "stream",
     "text": [
      "<class 'pandas.core.frame.DataFrame'>\n",
      "RangeIndex: 17379 entries, 0 to 17378\n",
      "Data columns (total 17 columns):\n",
      " #   Column      Non-Null Count  Dtype         \n",
      "---  ------      --------------  -----         \n",
      " 0   instant     17379 non-null  int64         \n",
      " 1   dteday      17379 non-null  datetime64[ns]\n",
      " 2   season      17379 non-null  int64         \n",
      " 3   yr          17379 non-null  int64         \n",
      " 4   mnth        17379 non-null  int64         \n",
      " 5   hr          17379 non-null  int64         \n",
      " 6   holiday     17379 non-null  int64         \n",
      " 7   weekday     17379 non-null  int64         \n",
      " 8   workingday  17379 non-null  int64         \n",
      " 9   weathersit  17379 non-null  int64         \n",
      " 10  temp        17379 non-null  float64       \n",
      " 11  atemp       17379 non-null  float64       \n",
      " 12  hum         17379 non-null  float64       \n",
      " 13  windspeed   17379 non-null  float64       \n",
      " 14  casual      17379 non-null  int64         \n",
      " 15  registered  17379 non-null  int64         \n",
      " 16  cnt         17379 non-null  int64         \n",
      "dtypes: datetime64[ns](1), float64(4), int64(12)\n",
      "memory usage: 2.3 MB\n"
     ]
    }
   ],
   "source": [
    "hour_df.info()"
   ]
  },
  {
   "cell_type": "markdown",
   "id": "285d4049-193e-4301-b232-54b9d9dd47af",
   "metadata": {},
   "source": [
    "kolom dteday pada tabel hr_df sudah berubah menjadi datetime. sekarang kita sudah bisa melakukan explorasi data"
   ]
  },
  {
   "cell_type": "markdown",
   "id": "778f8db5-4aa3-43be-a640-22a96d272ac7",
   "metadata": {},
   "source": [
    "# Exploratory Data Analysis (EDA)"
   ]
  },
  {
   "cell_type": "markdown",
   "id": "1f93f947-7575-44a9-bd39-20a630f1e78b",
   "metadata": {},
   "source": [
    "## 1. Pada bulan apa rental sepeda terbanyak terjadi?"
   ]
  },
  {
   "cell_type": "markdown",
   "id": "5d8e369b-0eaa-4b6b-9590-8a2a9983b0fc",
   "metadata": {},
   "source": [
    "untuk menjawab pertanyaan pertama. kita akan menggunakan groupby() berdasarkan kolom mnth untuk melihat jumlah rental pada tiap bulannya. DataFrame baru dibuat agar kita dapat melihat informasi yang telah dikelompokkan"
   ]
  },
  {
   "cell_type": "code",
   "execution_count": 17,
   "id": "18a66e5d-4a03-43e1-aa35-b23ef3f82901",
   "metadata": {},
   "outputs": [
    {
     "data": {
      "text/html": [
       "<div>\n",
       "<style scoped>\n",
       "    .dataframe tbody tr th:only-of-type {\n",
       "        vertical-align: middle;\n",
       "    }\n",
       "\n",
       "    .dataframe tbody tr th {\n",
       "        vertical-align: top;\n",
       "    }\n",
       "\n",
       "    .dataframe thead th {\n",
       "        text-align: right;\n",
       "    }\n",
       "</style>\n",
       "<table border=\"1\" class=\"dataframe\">\n",
       "  <thead>\n",
       "    <tr style=\"text-align: right;\">\n",
       "      <th></th>\n",
       "      <th>mnth</th>\n",
       "      <th>cnt</th>\n",
       "    </tr>\n",
       "  </thead>\n",
       "  <tbody>\n",
       "    <tr>\n",
       "      <th>0</th>\n",
       "      <td>Januari</td>\n",
       "      <td>134933</td>\n",
       "    </tr>\n",
       "    <tr>\n",
       "      <th>1</th>\n",
       "      <td>Februari</td>\n",
       "      <td>151352</td>\n",
       "    </tr>\n",
       "    <tr>\n",
       "      <th>2</th>\n",
       "      <td>Maret</td>\n",
       "      <td>228920</td>\n",
       "    </tr>\n",
       "    <tr>\n",
       "      <th>3</th>\n",
       "      <td>April</td>\n",
       "      <td>269094</td>\n",
       "    </tr>\n",
       "    <tr>\n",
       "      <th>4</th>\n",
       "      <td>Mei</td>\n",
       "      <td>331686</td>\n",
       "    </tr>\n",
       "    <tr>\n",
       "      <th>5</th>\n",
       "      <td>Juni</td>\n",
       "      <td>346342</td>\n",
       "    </tr>\n",
       "    <tr>\n",
       "      <th>6</th>\n",
       "      <td>Juli</td>\n",
       "      <td>344948</td>\n",
       "    </tr>\n",
       "    <tr>\n",
       "      <th>7</th>\n",
       "      <td>Agustus</td>\n",
       "      <td>351194</td>\n",
       "    </tr>\n",
       "    <tr>\n",
       "      <th>8</th>\n",
       "      <td>September</td>\n",
       "      <td>345991</td>\n",
       "    </tr>\n",
       "    <tr>\n",
       "      <th>9</th>\n",
       "      <td>Oktober</td>\n",
       "      <td>322352</td>\n",
       "    </tr>\n",
       "    <tr>\n",
       "      <th>10</th>\n",
       "      <td>November</td>\n",
       "      <td>254831</td>\n",
       "    </tr>\n",
       "    <tr>\n",
       "      <th>11</th>\n",
       "      <td>Desember</td>\n",
       "      <td>211036</td>\n",
       "    </tr>\n",
       "  </tbody>\n",
       "</table>\n",
       "</div>"
      ],
      "text/plain": [
       "         mnth     cnt\n",
       "0     Januari  134933\n",
       "1    Februari  151352\n",
       "2       Maret  228920\n",
       "3       April  269094\n",
       "4         Mei  331686\n",
       "5        Juni  346342\n",
       "6        Juli  344948\n",
       "7     Agustus  351194\n",
       "8   September  345991\n",
       "9     Oktober  322352\n",
       "10   November  254831\n",
       "11   Desember  211036"
      ]
     },
     "execution_count": 17,
     "metadata": {},
     "output_type": "execute_result"
    }
   ],
   "source": [
    "#menghitung jumlah rental sepeda setiap bulannya\n",
    "rent_month = hour_df.groupby(by='mnth')[['cnt']].sum().reset_index()\n",
    "\n",
    "# Membuat list nama-nama bulan\n",
    "bulan = ['Januari','Februari','Maret','April','Mei','Juni','Juli','Agustus','September','Oktober','November','Desember']\n",
    "\n",
    "# Mengubah format bulan dari angka menjadi nama bulan\n",
    "for i in range(0,len(bulan)):\n",
    "    rent_month['mnth'] = rent_month['mnth'].replace(i+1,bulan[i])\n",
    "\n",
    "rent_month"
   ]
  },
  {
   "cell_type": "markdown",
   "id": "0f0e6324-40ed-4752-93c6-5a5e93d67028",
   "metadata": {},
   "source": [
    "Pada kode di atas, groupby() dibuat terlebih dahulu sebelum melakukan replace() pada nama bulan supaya urutan bulan tidak berubah.\n",
    "\n",
    "Jumlah rental paling besar terjadi pada rentang bulan mei sampai oktober, bulan-bulan tersebut paling banyak terjadi di musim gugur.\n",
    "\n",
    "Untuk memastikan rental terbanyak berdasarkan musimnya, kita dapat melakukan groupby() berdasarkan season. Sebelum itu, kita dapat mengubah nilai kolom season dari data integer menjadi string sebagai berikut:\n",
    "- 1 : Springer\n",
    "- 2 : Summer\n",
    "- 3 : Fall\n",
    "- 4 : Winter\n",
    "\n",
    "Perubahan nilai dimaksudkan untuk memudahkan dalam meraih informasi agar dapat langsung dipahami. Perubahan dapat kita lakukan menggunakan "
   ]
  },
  {
   "cell_type": "code",
   "execution_count": 18,
   "id": "efe9b145-ceca-4656-9443-72d314ac276e",
   "metadata": {},
   "outputs": [
    {
     "data": {
      "text/html": [
       "<div>\n",
       "<style scoped>\n",
       "    .dataframe tbody tr th:only-of-type {\n",
       "        vertical-align: middle;\n",
       "    }\n",
       "\n",
       "    .dataframe tbody tr th {\n",
       "        vertical-align: top;\n",
       "    }\n",
       "\n",
       "    .dataframe thead th {\n",
       "        text-align: right;\n",
       "    }\n",
       "</style>\n",
       "<table border=\"1\" class=\"dataframe\">\n",
       "  <thead>\n",
       "    <tr style=\"text-align: right;\">\n",
       "      <th></th>\n",
       "      <th>season</th>\n",
       "      <th>cnt</th>\n",
       "    </tr>\n",
       "  </thead>\n",
       "  <tbody>\n",
       "    <tr>\n",
       "      <th>0</th>\n",
       "      <td>Fall</td>\n",
       "      <td>1061129</td>\n",
       "    </tr>\n",
       "    <tr>\n",
       "      <th>1</th>\n",
       "      <td>Springer</td>\n",
       "      <td>471348</td>\n",
       "    </tr>\n",
       "    <tr>\n",
       "      <th>2</th>\n",
       "      <td>Summer</td>\n",
       "      <td>918589</td>\n",
       "    </tr>\n",
       "    <tr>\n",
       "      <th>3</th>\n",
       "      <td>Winter</td>\n",
       "      <td>841613</td>\n",
       "    </tr>\n",
       "  </tbody>\n",
       "</table>\n",
       "</div>"
      ],
      "text/plain": [
       "     season      cnt\n",
       "0      Fall  1061129\n",
       "1  Springer   471348\n",
       "2    Summer   918589\n",
       "3    Winter   841613"
      ]
     },
     "execution_count": 18,
     "metadata": {},
     "output_type": "execute_result"
    }
   ],
   "source": [
    "hour_df['season'].replace({1:'Springer',2:'Summer',3:'Fall',4:'Winter'},inplace=True)\n",
    "rent_season = hour_df.groupby(by='season')[['cnt']].sum().reset_index()\n",
    "rent_season"
   ]
  },
  {
   "cell_type": "markdown",
   "id": "f9ffc6cf-b750-4ef3-8884-aa34cda10bbd",
   "metadata": {},
   "source": [
    "DataFrame ini membuktikan bahwa jumlah rental terbanyak terjadi di musim gugur (Fall)"
   ]
  },
  {
   "cell_type": "markdown",
   "id": "520f7fe6-4e92-45e2-af57-cfef7f5f4859",
   "metadata": {},
   "source": [
    "# 2. Bagaimana trend jumlah rental pada jam-jam tertentu?"
   ]
  },
  {
   "cell_type": "markdown",
   "id": "0ba85df2-acc1-4e1e-9104-9f1147e717b0",
   "metadata": {},
   "source": [
    "Pengguna akan melakukan rental sepeda pada waktu-waktu tertentu tergantung kondisi dan kebutuhan. DataFrame baru dibuat seperti kasus pertanyaan pertama agar dapat melihat informasi tren pada jam tertentu. kita perlu mengelompokkan jumlah rental berdasarkan jam pada DataFrame baru."
   ]
  },
  {
   "cell_type": "code",
   "execution_count": 19,
   "id": "4b6a487b-2793-4ef3-87f4-c50c88c7e219",
   "metadata": {},
   "outputs": [
    {
     "name": "stdout",
     "output_type": "stream",
     "text": [
      "    hr     cnt\n",
      "0    0   39130\n",
      "1    1   24164\n",
      "2    2   16352\n",
      "3    3    8174\n",
      "4    4    4428\n",
      "5    5   14261\n",
      "6    6   55132\n",
      "7    7  154171\n",
      "8    8  261001\n",
      "9    9  159438\n",
      "10  10  126257\n",
      "11  11  151320\n",
      "12  12  184414\n",
      "13  13  184919\n",
      "14  14  175652\n",
      "15  15  183149\n",
      "16  16  227748\n",
      "17  17  336860\n",
      "18  18  309772\n",
      "19  19  226789\n",
      "20  20  164550\n",
      "21  21  125445\n",
      "22  22   95612\n",
      "23  23   63941\n"
     ]
    }
   ],
   "source": [
    "rent_day = hour_df.groupby(by='hr',as_index=False)[['cnt']].sum()\n",
    "print(rent_day)"
   ]
  },
  {
   "cell_type": "markdown",
   "id": "a1bf9f67-0d5d-4990-9387-1fe7b78f8a9d",
   "metadata": {},
   "source": [
    "# Visualization & Explanatory Analysis"
   ]
  },
  {
   "cell_type": "markdown",
   "id": "ba56a68d-2f49-4052-8411-c05b1fed300a",
   "metadata": {},
   "source": [
    "## 1. Pada bulan apa rental sepeda terbanyak terjadi?"
   ]
  },
  {
   "cell_type": "markdown",
   "id": "1ef4f94f-18c8-4060-b67b-5caa8f786372",
   "metadata": {},
   "source": [
    "Kita akan menggunakan bar chart untuk mengetahui jumlah rental terbanyak pada tiap bulannya dan tiap musimnya. Chart ini akan mengambil nilai **mnth** dan **season** sebagai sumbu-x dan nilai **cnt** sebagai sumbu-y"
   ]
  },
  {
   "cell_type": "code",
   "execution_count": 24,
   "id": "86096743-0877-4662-b163-4c4c9b6f8e56",
   "metadata": {},
   "outputs": [
    {
     "name": "stderr",
     "output_type": "stream",
     "text": [
      "C:\\Users\\asus\\AppData\\Local\\Temp\\ipykernel_5412\\329165884.py:12: FutureWarning: \n",
      "\n",
      "Passing `palette` without assigning `hue` is deprecated and will be removed in v0.14.0. Assign the `x` variable to `hue` and set `legend=False` for the same effect.\n",
      "\n",
      "  sns.barplot(x=\"season\", y=\"cnt\", data=rent_season.sort_values(by='cnt',ascending=False),ax=ax[1],palette=[\"#72BCD4\", \"#D3D3D3\", \"#D3D3D3\", \"#D3D3D3\"])\n"
     ]
    },
    {
     "data": {
      "image/png": "[encoded data removed]",
      "text/plain": [
       "<Figure size 2400x600 with 2 Axes>"
      ]
     },
     "metadata": {},
     "output_type": "display_data"
    }
   ],
   "source": [
    "#mengatur ukuran chart dan jumlah kolom chart\n",
    "fig, ax = plt.subplots(nrows=1, ncols=2, figsize=(24, 6))\n",
    "\n",
    "#membuat barchart perbulan di sebelah kiri\n",
    "sns.barplot(y=\"mnth\", x=\"cnt\", hue=\"mnth\",data=rent_month, ax=ax[0],palette=[\"#D3D3D3\", \"#D3D3D3\", \"#D3D3D3\",\"#D3D3D3\", \"#D3D3D3\", \"#D3D3D3\", \"#D3D3D3\",\"#72BCD4\", \"#D3D3D3\", \"#D3D3D3\", \"#D3D3D3\", \"#D3D3D3\"])\n",
    "ax[0].set_ylabel(None)\n",
    "ax[0].set_xlabel(None)\n",
    "ax[0].set_title(\"Jumlah Rental tiap Bulan\", fontsize=15)\n",
    "ax[0].tick_params(axis ='y', labelsize=12)\n",
    "\n",
    "#membuat barchart permusim di sebelah kanan\n",
    "sns.barplot(x=\"season\", y=\"cnt\", data=rent_season.sort_values(by='cnt',ascending=False),ax=ax[1],palette=[\"#72BCD4\", \"#D3D3D3\", \"#D3D3D3\", \"#D3D3D3\"])\n",
    "ax[1].set_ylabel(None)\n",
    "ax[1].set_xlabel(None)\n",
    "ax[1].invert_xaxis()\n",
    "ax[1].yaxis.set_label_position(\"right\")\n",
    "ax[1].yaxis.tick_right()\n",
    "ax[1].set_title(\"Jumlah Rental tiap Musim\", loc=\"center\", fontsize=15)\n",
    "ax[1].tick_params(axis='y', labelsize=12)\n",
    " \n",
    "plt.suptitle(\"Jumlah Rental terhadap Periode Waktu Tertentu\", fontsize=20)\n",
    "plt.show()"
   ]
  },
  {
   "cell_type": "markdown",
   "id": "e43cd8b9-eeb2-4bf9-80f4-ae48727de1f8",
   "metadata": {},
   "source": [
    "seperti yang terlihat, rental sepeda terbanyak terjadi pada rentang bulan mei hingga oktober dan puncaknya ada di bulan Agustus. Rentang bulan tersebut berada pda musim gugur"
   ]
  },
  {
   "cell_type": "markdown",
   "id": "a8688fe3-6aef-49ca-8dd5-045b12767655",
   "metadata": {},
   "source": [
    "# 2. Bagaimana trend jumlah rental pada jam-jam tertentu?"
   ]
  },
  {
   "cell_type": "code",
   "execution_count": 15,
   "id": "26d4fceb-8f89-4c32-80d2-bbc1dea9117c",
   "metadata": {},
   "outputs": [
    {
     "data": {
      "image/png": "[encoded data removed]",
      "text/plain": [
       "<Figure size 1000x500 with 1 Axes>"
      ]
     },
     "metadata": {},
     "output_type": "display_data"
    }
   ],
   "source": [
    "plt.figure(figsize=(10, 5))\n",
    "\n",
    "plt.plot(rent_day['hr'], rent_day['cnt'], marker='o', linewidth=2, color=\"#72BCD4\") \n",
    "plt.title(\"Jumlah Rental pada Jam-Jam Tertentu\", loc=\"center\", fontsize=20) \n",
    "plt.xticks(fontsize=10) \n",
    "plt.yticks(fontsize=10) \n",
    "plt.show()"
   ]
  },
  {
   "cell_type": "markdown",
   "id": "bec086a4-8989-498c-934e-2930520b836b",
   "metadata": {},
   "source": [
    "Tren rental sepeda menngalai naik-mundur. Kenaikan sempat terjadi pada jam 4 sampai jam 8, menurun lagi pada jam 9 dan naik kembali pada jam 11. Rental paling tinggi terjadi pada jam 17 atau jam 5 sore. Pola ini mengikuti waktu jam berangkat kerja karyawan (jam 8 pagi) dan jam pulang karyawan (jam 17 sore). Mengutip halaman web https://www.voaindonesia.com/a/article-10-ribu-orang-bersepeda-ke-kantor-122349409/93473.html, setiap tahun di Washingtong DC diadakan hari *bike to work* serta terdapat anggapan sebagian warganya bahwa bersepeda lebih aman daripada menggunakan transportasi lainnya, sehingga kemungkinan besar pengguna yang melakukan rental didominasi oleh karyawan (perlu lakukan penelitian lebih lanjut)."
   ]
  },
  {
   "cell_type": "markdown",
   "id": "5c3a5616-f16f-4239-baed-dac0a1a71e45",
   "metadata": {},
   "source": [
    "# Conclusion"
   ]
  },
  {
   "cell_type": "markdown",
   "id": "c5c99fc5-8422-468a-bc7d-fc159e8790b6",
   "metadata": {},
   "source": [
    "- Conclution pertanyaan 1"
   ]
  },
  {
   "cell_type": "markdown",
   "id": "fe8949de-a241-4017-be57-c5ea6ca0e822",
   "metadata": {},
   "source": [
    "Pengguna cenderung rental sepeda pada musim gugur. Hal ini dikarenakan cuaca yang  tidak tidak terlalu dingin. Pihak pengembang Bike Rental System dapat memanfaatkan kondisi ini dengan memberikan pelayanan optimal di musim gugur serta memberikan berbagai promo menarik untuk menarik lebih banyak pengguna."
   ]
  },
  {
   "cell_type": "markdown",
   "id": "89645450-cef5-46ef-b5ef-e06fb2b63351",
   "metadata": {},
   "source": [
    "- Conclution pertanyaan 2"
   ]
  },
  {
   "cell_type": "markdown",
   "id": "109dadd8-5ac0-4890-960a-1b7dcd308ab5",
   "metadata": {},
   "source": [
    "Jumlah rental sepeda terjadi pada waktu-waktu tertentu sehingga pengembang Bike Rental System perlu memerhatikan waktu-waktu krusial agar tidak terjadi kendala pada sistem."
   ]
  }
 ],
 "metadata": {
  "kernelspec": {
   "display_name": "Python 3 (ipykernel)",
   "language": "python",
   "name": "python3"
  },
  "language_info": {
   "codemirror_mode": {
    "name": "ipython",
    "version": 3
   },
   "file_extension": ".py",
   "mimetype": "text/x-python",
   "name": "python",
   "nbconvert_exporter": "python",
   "pygments_lexer": "ipython3",
   "version": "3.12.2"
  }
 },
 "nbformat": 4,
 "nbformat_minor": 5
}
